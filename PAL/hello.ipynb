{
 "cells": [
  {
   "cell_type": "code",
   "execution_count": 1,
   "metadata": {},
   "outputs": [
    {
     "name": "stderr",
     "output_type": "stream",
     "text": [
      "Cloning into 'pal'...\n"
     ]
    },
    {
     "name": "stdout",
     "output_type": "stream",
     "text": [
      "Processing c:\\projects\\agents_ai\\pal\\pal\n",
      "  Preparing metadata (setup.py): started\n",
      "  Preparing metadata (setup.py): finished with status 'done'\n",
      "Collecting openai (from pal==0.1)\n",
      "  Downloading openai-1.47.0-py3-none-any.whl.metadata (24 kB)\n",
      "Requirement already satisfied: python-dateutil in c:\\users\\vicente.machaca\\appdata\\local\\anaconda3\\envs\\agents\\lib\\site-packages (from pal==0.1) (2.9.0)\n",
      "Collecting anyio<5,>=3.5.0 (from openai->pal==0.1)\n",
      "  Downloading anyio-4.5.0-py3-none-any.whl.metadata (4.7 kB)\n",
      "Collecting distro<2,>=1.7.0 (from openai->pal==0.1)\n",
      "  Using cached distro-1.9.0-py3-none-any.whl.metadata (6.8 kB)\n",
      "Collecting httpx<1,>=0.23.0 (from openai->pal==0.1)\n",
      "  Using cached httpx-0.27.2-py3-none-any.whl.metadata (7.1 kB)\n",
      "Collecting jiter<1,>=0.4.0 (from openai->pal==0.1)\n",
      "  Downloading jiter-0.5.0-cp311-none-win_amd64.whl.metadata (3.7 kB)\n",
      "Collecting pydantic<3,>=1.9.0 (from openai->pal==0.1)\n",
      "  Downloading pydantic-2.9.2-py3-none-any.whl.metadata (149 kB)\n",
      "Collecting sniffio (from openai->pal==0.1)\n",
      "  Using cached sniffio-1.3.1-py3-none-any.whl.metadata (3.9 kB)\n",
      "Collecting tqdm>4 (from openai->pal==0.1)\n",
      "  Using cached tqdm-4.66.5-py3-none-any.whl.metadata (57 kB)\n",
      "Requirement already satisfied: typing-extensions<5,>=4.11 in c:\\users\\vicente.machaca\\appdata\\local\\anaconda3\\envs\\agents\\lib\\site-packages (from openai->pal==0.1) (4.12.2)\n",
      "Requirement already satisfied: six>=1.5 in c:\\users\\vicente.machaca\\appdata\\local\\anaconda3\\envs\\agents\\lib\\site-packages (from python-dateutil->pal==0.1) (1.16.0)\n",
      "Requirement already satisfied: idna>=2.8 in c:\\users\\vicente.machaca\\appdata\\local\\anaconda3\\envs\\agents\\lib\\site-packages (from anyio<5,>=3.5.0->openai->pal==0.1) (3.8)\n",
      "Requirement already satisfied: certifi in c:\\users\\vicente.machaca\\appdata\\local\\anaconda3\\envs\\agents\\lib\\site-packages (from httpx<1,>=0.23.0->openai->pal==0.1) (2024.8.30)\n",
      "Collecting httpcore==1.* (from httpx<1,>=0.23.0->openai->pal==0.1)\n",
      "  Using cached httpcore-1.0.5-py3-none-any.whl.metadata (20 kB)\n",
      "Collecting h11<0.15,>=0.13 (from httpcore==1.*->httpx<1,>=0.23.0->openai->pal==0.1)\n",
      "  Using cached h11-0.14.0-py3-none-any.whl.metadata (8.2 kB)\n",
      "Collecting annotated-types>=0.6.0 (from pydantic<3,>=1.9.0->openai->pal==0.1)\n",
      "  Using cached annotated_types-0.7.0-py3-none-any.whl.metadata (15 kB)\n",
      "Collecting pydantic-core==2.23.4 (from pydantic<3,>=1.9.0->openai->pal==0.1)\n",
      "  Downloading pydantic_core-2.23.4-cp311-none-win_amd64.whl.metadata (6.7 kB)\n",
      "Requirement already satisfied: colorama in c:\\users\\vicente.machaca\\appdata\\local\\anaconda3\\envs\\agents\\lib\\site-packages (from tqdm>4->openai->pal==0.1) (0.4.6)\n",
      "Downloading openai-1.47.0-py3-none-any.whl (375 kB)\n",
      "Downloading anyio-4.5.0-py3-none-any.whl (89 kB)\n",
      "Using cached distro-1.9.0-py3-none-any.whl (20 kB)\n",
      "Using cached httpx-0.27.2-py3-none-any.whl (76 kB)\n",
      "Using cached httpcore-1.0.5-py3-none-any.whl (77 kB)\n",
      "Downloading jiter-0.5.0-cp311-none-win_amd64.whl (191 kB)\n",
      "Downloading pydantic-2.9.2-py3-none-any.whl (434 kB)\n",
      "Downloading pydantic_core-2.23.4-cp311-none-win_amd64.whl (1.9 MB)\n",
      "   ---------------------------------------- 0.0/1.9 MB ? eta -:--:--\n",
      "   ---------------- ----------------------- 0.8/1.9 MB 3.4 MB/s eta 0:00:01\n",
      "   -------------------------------- ------- 1.6/1.9 MB 3.6 MB/s eta 0:00:01\n",
      "   ---------------------------------------- 1.9/1.9 MB 3.4 MB/s eta 0:00:00\n",
      "Using cached sniffio-1.3.1-py3-none-any.whl (10 kB)\n",
      "Using cached tqdm-4.66.5-py3-none-any.whl (78 kB)\n",
      "Using cached annotated_types-0.7.0-py3-none-any.whl (13 kB)\n",
      "Using cached h11-0.14.0-py3-none-any.whl (58 kB)\n",
      "Building wheels for collected packages: pal\n",
      "  Building wheel for pal (setup.py): started\n",
      "  Building wheel for pal (setup.py): finished with status 'done'\n",
      "  Created wheel for pal: filename=pal-0.1-py3-none-any.whl size=17551 sha256=e1491cf7cb83f37a660645a8988ea940ace9ad41d07e6eaaed1a909e1da00184\n",
      "  Stored in directory: C:\\Users\\vicente.machaca\\AppData\\Local\\Temp\\pip-ephem-wheel-cache-k43rxdmp\\wheels\\12\\a5\\2c\\3241377a7b6dcc51e5823d33f675111cfe99411d43a6637023\n",
      "Successfully built pal\n",
      "Installing collected packages: tqdm, sniffio, pydantic-core, jiter, h11, distro, annotated-types, pydantic, httpcore, anyio, httpx, openai, pal\n",
      "Successfully installed annotated-types-0.7.0 anyio-4.5.0 distro-1.9.0 h11-0.14.0 httpcore-1.0.5 httpx-0.27.2 jiter-0.5.0 openai-1.47.0 pal-0.1 pydantic-2.9.2 pydantic-core-2.23.4 sniffio-1.3.1 tqdm-4.66.5\n"
     ]
    }
   ],
   "source": [
    "! git clone https://github.com/luyug/pal\n",
    "! pip install ./pal"
   ]
  },
  {
   "cell_type": "code",
   "execution_count": 12,
   "metadata": {},
   "outputs": [
    {
     "name": "stdout",
     "output_type": "stream",
     "text": [
      "Processing c:\\projects\\agents_ai\\pal\\pal\n",
      "  Preparing metadata (setup.py): started\n",
      "  Preparing metadata (setup.py): finished with status 'done'\n",
      "Requirement already satisfied: openai in c:\\users\\vicente.machaca\\appdata\\local\\anaconda3\\envs\\agents\\lib\\site-packages (from pal==0.1.2) (1.47.0)\n",
      "Requirement already satisfied: python-dateutil in c:\\users\\vicente.machaca\\appdata\\local\\anaconda3\\envs\\agents\\lib\\site-packages (from pal==0.1.2) (2.9.0)\n",
      "Requirement already satisfied: anyio<5,>=3.5.0 in c:\\users\\vicente.machaca\\appdata\\local\\anaconda3\\envs\\agents\\lib\\site-packages (from openai->pal==0.1.2) (4.5.0)\n",
      "Requirement already satisfied: distro<2,>=1.7.0 in c:\\users\\vicente.machaca\\appdata\\local\\anaconda3\\envs\\agents\\lib\\site-packages (from openai->pal==0.1.2) (1.9.0)\n",
      "Requirement already satisfied: httpx<1,>=0.23.0 in c:\\users\\vicente.machaca\\appdata\\local\\anaconda3\\envs\\agents\\lib\\site-packages (from openai->pal==0.1.2) (0.27.2)\n",
      "Requirement already satisfied: jiter<1,>=0.4.0 in c:\\users\\vicente.machaca\\appdata\\local\\anaconda3\\envs\\agents\\lib\\site-packages (from openai->pal==0.1.2) (0.5.0)\n",
      "Requirement already satisfied: pydantic<3,>=1.9.0 in c:\\users\\vicente.machaca\\appdata\\local\\anaconda3\\envs\\agents\\lib\\site-packages (from openai->pal==0.1.2) (2.9.2)\n",
      "Requirement already satisfied: sniffio in c:\\users\\vicente.machaca\\appdata\\local\\anaconda3\\envs\\agents\\lib\\site-packages (from openai->pal==0.1.2) (1.3.1)\n",
      "Requirement already satisfied: tqdm>4 in c:\\users\\vicente.machaca\\appdata\\local\\anaconda3\\envs\\agents\\lib\\site-packages (from openai->pal==0.1.2) (4.66.5)\n",
      "Requirement already satisfied: typing-extensions<5,>=4.11 in c:\\users\\vicente.machaca\\appdata\\local\\anaconda3\\envs\\agents\\lib\\site-packages (from openai->pal==0.1.2) (4.12.2)\n",
      "Requirement already satisfied: six>=1.5 in c:\\users\\vicente.machaca\\appdata\\local\\anaconda3\\envs\\agents\\lib\\site-packages (from python-dateutil->pal==0.1.2) (1.16.0)\n",
      "Requirement already satisfied: idna>=2.8 in c:\\users\\vicente.machaca\\appdata\\local\\anaconda3\\envs\\agents\\lib\\site-packages (from anyio<5,>=3.5.0->openai->pal==0.1.2) (3.8)\n",
      "Requirement already satisfied: certifi in c:\\users\\vicente.machaca\\appdata\\local\\anaconda3\\envs\\agents\\lib\\site-packages (from httpx<1,>=0.23.0->openai->pal==0.1.2) (2024.8.30)\n",
      "Requirement already satisfied: httpcore==1.* in c:\\users\\vicente.machaca\\appdata\\local\\anaconda3\\envs\\agents\\lib\\site-packages (from httpx<1,>=0.23.0->openai->pal==0.1.2) (1.0.5)\n",
      "Requirement already satisfied: h11<0.15,>=0.13 in c:\\users\\vicente.machaca\\appdata\\local\\anaconda3\\envs\\agents\\lib\\site-packages (from httpcore==1.*->httpx<1,>=0.23.0->openai->pal==0.1.2) (0.14.0)\n",
      "Requirement already satisfied: annotated-types>=0.6.0 in c:\\users\\vicente.machaca\\appdata\\local\\anaconda3\\envs\\agents\\lib\\site-packages (from pydantic<3,>=1.9.0->openai->pal==0.1.2) (0.7.0)\n",
      "Requirement already satisfied: pydantic-core==2.23.4 in c:\\users\\vicente.machaca\\appdata\\local\\anaconda3\\envs\\agents\\lib\\site-packages (from pydantic<3,>=1.9.0->openai->pal==0.1.2) (2.23.4)\n",
      "Requirement already satisfied: colorama in c:\\users\\vicente.machaca\\appdata\\local\\anaconda3\\envs\\agents\\lib\\site-packages (from tqdm>4->openai->pal==0.1.2) (0.4.6)\n",
      "Building wheels for collected packages: pal\n",
      "  Building wheel for pal (setup.py): started\n",
      "  Building wheel for pal (setup.py): finished with status 'done'\n",
      "  Created wheel for pal: filename=pal-0.1.2-py3-none-any.whl size=17662 sha256=9c41e631b3bd94eb79682d114f5a058e8795e4bdd8d02dd93da73fcf1e965a15\n",
      "  Stored in directory: C:\\Users\\vicente.machaca\\AppData\\Local\\Temp\\pip-ephem-wheel-cache-z3twr9qh\\wheels\\12\\a5\\2c\\3241377a7b6dcc51e5823d33f675111cfe99411d43a6637023\n",
      "Successfully built pal\n",
      "Installing collected packages: pal\n",
      "  Attempting uninstall: pal\n",
      "    Found existing installation: pal 0.1.2\n",
      "    Uninstalling pal-0.1.2:\n",
      "      Successfully uninstalled pal-0.1.2\n",
      "Successfully installed pal-0.1.2\n"
     ]
    }
   ],
   "source": [
    "! pip install ./pal"
   ]
  },
  {
   "cell_type": "code",
   "execution_count": 4,
   "metadata": {},
   "outputs": [],
   "source": [
    "import openai\n",
    "import os\n",
    "from dotenv import load_dotenv\n",
    "load_dotenv()\n",
    "\n",
    "OPENAI_API_KEY = os.getenv(\"OPENAI_API_KEY\")\n",
    "openai.api_key = '' #@param {type:\"string\"}\n",
    "#MODEL = 'code-davinci-002' # deprecated\n",
    "MODEL = 'gpt-3.5-turbo'"
   ]
  },
  {
   "cell_type": "code",
   "execution_count": 5,
   "metadata": {},
   "outputs": [],
   "source": [
    "import pal\n",
    "from pal.prompt import colored_object_prompt, math_prompts\n",
    "\n",
    "interface = pal.interface.ProgramInterface(model=MODEL, get_answer_expr='solution()', verbose=True)\n",
    "\n",
    "question = \"Jan has three times the number of pets as Marcia. Marcia has two more pets than Cindy. If Cindy has four pets, how many total pets do the three have?\"#@param {type:\"string\"}\n",
    "prompt = math_prompts.MATH_PROMPT.format(question=question)"
   ]
  },
  {
   "cell_type": "code",
   "execution_count": 16,
   "metadata": {},
   "outputs": [
    {
     "name": "stdout",
     "output_type": "stream",
     "text": [
      "Q: Olivia has $23. She bought five bagels for $3 each. How much money does she have left?\n",
      "\n",
      "# solution in Python:\n",
      "\n",
      "\n",
      "def solution():\n",
      "    \"\"\"Olivia has $23. She bought five bagels for $3 each. How much money does she have left?\"\"\"\n",
      "    money_initial = 23\n",
      "    bagels = 5\n",
      "    bagel_cost = 3\n",
      "    money_spent = bagels * bagel_cost\n",
      "    money_left = money_initial - money_spent\n",
      "    result = money_left\n",
      "    return result\n",
      "\n",
      "\n",
      "\n",
      "\n",
      "\n",
      "Q: Michael had 58 golf balls. On tuesday, he lost 23 golf balls. On wednesday, he lost 2 more. How many golf balls did he have at the end of wednesday?\n",
      "\n",
      "# solution in Python:\n",
      "\n",
      "\n",
      "def solution():\n",
      "    \"\"\"Michael had 58 golf balls. On tuesday, he lost 23 golf balls. On wednesday, he lost 2 more. How many golf balls did he have at the end of wednesday?\"\"\"\n",
      "    golf_balls_initial = 58\n",
      "    golf_balls_lost_tuesday = 23\n",
      "    golf_balls_lost_wednesday = 2\n",
      "    golf_balls_left = golf_balls_initial - golf_balls_lost_tuesday - golf_balls_lost_wednesday\n",
      "    result = golf_balls_left\n",
      "    return result\n",
      "\n",
      "\n",
      "\n",
      "\n",
      "\n",
      "Q: There were nine computers in the server room. Five more computers were installed each day, from monday to thursday. How many computers are now in the server room?\n",
      "\n",
      "# solution in Python:\n",
      "\n",
      "\n",
      "def solution():\n",
      "    \"\"\"There were nine computers in the server room. Five more computers were installed each day, from monday to thursday. How many computers are now in the server room?\"\"\"\n",
      "    computers_initial = 9\n",
      "    computers_per_day = 5\n",
      "    num_days = 4  # 4 days between monday and thursday\n",
      "    computers_added = computers_per_day * num_days\n",
      "    computers_total = computers_initial + computers_added\n",
      "    result = computers_total\n",
      "    return result\n",
      "\n",
      "\n",
      "\n",
      "\n",
      "\n",
      "Q: Shawn has five toys. For Christmas, he got two toys each from his mom and dad. How many toys does he have now?\n",
      "\n",
      "# solution in Python:\n",
      "\n",
      "\n",
      "def solution():\n",
      "    \"\"\"Shawn has five toys. For Christmas, he got two toys each from his mom and dad. How many toys does he have now?\"\"\"\n",
      "    toys_initial = 5\n",
      "    mom_toys = 2\n",
      "    dad_toys = 2\n",
      "    total_received = mom_toys + dad_toys\n",
      "    total_toys = toys_initial + total_received\n",
      "    result = total_toys\n",
      "    return result\n",
      "\n",
      "\n",
      "\n",
      "\n",
      "\n",
      "Q: Jason had 20 lollipops. He gave Denny some lollipops. Now Jason has 12 lollipops. How many lollipops did Jason give to Denny?\n",
      "\n",
      "# solution in Python:\n",
      "\n",
      "\n",
      "def solution():\n",
      "    \"\"\"Jason had 20 lollipops. He gave Denny some lollipops. Now Jason has 12 lollipops. How many lollipops did Jason give to Denny?\"\"\"\n",
      "    jason_lollipops_initial = 20\n",
      "    jason_lollipops_after = 12\n",
      "    denny_lollipops = jason_lollipops_initial - jason_lollipops_after\n",
      "    result = denny_lollipops\n",
      "    return result\n",
      "\n",
      "\n",
      "\n",
      "\n",
      "\n",
      "Q: Leah had 32 chocolates and her sister had 42. If they ate 35, how many pieces do they have left in total?\n",
      "\n",
      "# solution in Python:\n",
      "\n",
      "\n",
      "def solution():\n",
      "    \"\"\"Leah had 32 chocolates and her sister had 42. If they ate 35, how many pieces do they have left in total?\"\"\"\n",
      "    leah_chocolates = 32\n",
      "    sister_chocolates = 42\n",
      "    total_chocolates = leah_chocolates + sister_chocolates\n",
      "    chocolates_eaten = 35\n",
      "    chocolates_left = total_chocolates - chocolates_eaten\n",
      "    result = chocolates_left\n",
      "    return result\n",
      "\n",
      "\n",
      "\n",
      "\n",
      "\n",
      "Q: If there are 3 cars in the parking lot and 2 more cars arrive, how many cars are in the parking lot?\n",
      "\n",
      "# solution in Python:\n",
      "\n",
      "\n",
      "def solution():\n",
      "    \"\"\"If there are 3 cars in the parking lot and 2 more cars arrive, how many cars are in the parking lot?\"\"\"\n",
      "    cars_initial = 3\n",
      "    cars_arrived = 2\n",
      "    total_cars = cars_initial + cars_arrived\n",
      "    result = total_cars\n",
      "    return result\n",
      "\n",
      "\n",
      "\n",
      "\n",
      "\n",
      "Q: There are 15 trees in the grove. Grove workers will plant trees in the grove today. After they are done, there will be 21 trees. How many trees did the grove workers plant today?\n",
      "\n",
      "# solution in Python:\n",
      "\n",
      "\n",
      "def solution():\n",
      "    \"\"\"There are 15 trees in the grove. Grove workers will plant trees in the grove today. After they are done, there will be 21 trees. How many trees did the grove workers plant today?\"\"\"\n",
      "    trees_initial = 15\n",
      "    trees_after = 21\n",
      "    trees_added = trees_after - trees_initial\n",
      "    result = trees_added\n",
      "    return result\n",
      "\n",
      "\n",
      "\n",
      "\n",
      "\n",
      "Q: Jan has three times the number of pets as Marcia. Marcia has two more pets than Cindy. If Cindy has four pets, how many total pets do the three have?\n",
      "\n",
      "# solution in Python:\n",
      "\n",
      "\n",
      "\n"
     ]
    }
   ],
   "source": [
    "print(prompt)"
   ]
  },
  {
   "cell_type": "code",
   "execution_count": 6,
   "metadata": {},
   "outputs": [
    {
     "name": "stdout",
     "output_type": "stream",
     "text": [
      "['```python\\ndef solution():\\n    \"\"\"Jan has three times the number of pets as Marcia. Marcia has two more pets than Cindy. If Cindy has four pets, how many total pets do the three have?\"\"\"\\n    cindy_pets = 4\\n    marcia_pets = cindy_pets + 2\\n    jan_pets = marcia_pets * 3\\n    total_pets = cindy_pets + marcia_pets + jan_pets\\n    result = total_pets\\n    return result\\n```']\n"
     ]
    },
    {
     "ename": "AttributeError",
     "evalue": "module 'signal' has no attribute 'SIGALRM'",
     "output_type": "error",
     "traceback": [
      "\u001b[1;31m---------------------------------------------------------------------------\u001b[0m",
      "\u001b[1;31mAttributeError\u001b[0m                            Traceback (most recent call last)",
      "Cell \u001b[1;32mIn[6], line 1\u001b[0m\n\u001b[1;32m----> 1\u001b[0m answer \u001b[38;5;241m=\u001b[39m \u001b[43minterface\u001b[49m\u001b[38;5;241;43m.\u001b[39;49m\u001b[43mrun\u001b[49m\u001b[43m(\u001b[49m\u001b[43mprompt\u001b[49m\u001b[43m,\u001b[49m\u001b[43m \u001b[49m\u001b[43mtime_out\u001b[49m\u001b[38;5;241;43m=\u001b[39;49m\u001b[38;5;241;43m10\u001b[39;49m\u001b[43m)\u001b[49m\n\u001b[0;32m      2\u001b[0m \u001b[38;5;28mprint\u001b[39m(\u001b[38;5;124m'\u001b[39m\u001b[38;5;130;01m\\n\u001b[39;00m\u001b[38;5;124m==========================\u001b[39m\u001b[38;5;124m'\u001b[39m)\n\u001b[0;32m      3\u001b[0m \u001b[38;5;28mprint\u001b[39m(\u001b[38;5;124mf\u001b[39m\u001b[38;5;124m'\u001b[39m\u001b[38;5;124mThe answer is \u001b[39m\u001b[38;5;132;01m{\u001b[39;00manswer\u001b[38;5;132;01m}\u001b[39;00m\u001b[38;5;124m.\u001b[39m\u001b[38;5;124m'\u001b[39m)\n",
      "File \u001b[1;32mc:\\Users\\vicente.machaca\\AppData\\Local\\anaconda3\\envs\\agents\\Lib\\site-packages\\pal\\core\\interface.py:131\u001b[0m, in \u001b[0;36mProgramInterface.run\u001b[1;34m(self, prompt, time_out, temperature, top_p, max_tokens, majority_at)\u001b[0m\n\u001b[0;32m    129\u001b[0m results \u001b[38;5;241m=\u001b[39m []\n\u001b[0;32m    130\u001b[0m \u001b[38;5;28;01mfor\u001b[39;00m code \u001b[38;5;129;01min\u001b[39;00m code_snippets:\n\u001b[1;32m--> 131\u001b[0m \u001b[43m    \u001b[49m\u001b[38;5;28;43;01mwith\u001b[39;49;00m\u001b[43m \u001b[49m\u001b[43mtimeout\u001b[49m\u001b[43m(\u001b[49m\u001b[43mtime_out\u001b[49m\u001b[43m)\u001b[49m\u001b[43m:\u001b[49m\n\u001b[0;32m    132\u001b[0m \u001b[43m        \u001b[49m\u001b[38;5;28;43;01mtry\u001b[39;49;00m\u001b[43m:\u001b[49m\n\u001b[0;32m    133\u001b[0m \u001b[43m            \u001b[49m\u001b[43mexec_result\u001b[49m\u001b[43m \u001b[49m\u001b[38;5;241;43m=\u001b[39;49m\u001b[43m \u001b[49m\u001b[38;5;28;43mself\u001b[39;49m\u001b[38;5;241;43m.\u001b[39;49m\u001b[43mexecute\u001b[49m\u001b[43m(\u001b[49m\u001b[43mcode\u001b[49m\u001b[43m)\u001b[49m\n",
      "File \u001b[1;32mc:\\Users\\vicente.machaca\\AppData\\Local\\anaconda3\\envs\\agents\\Lib\\site-packages\\pal\\core\\interface.py:32\u001b[0m, in \u001b[0;36mtimeout.__enter__\u001b[1;34m(self)\u001b[0m\n\u001b[0;32m     31\u001b[0m \u001b[38;5;28;01mdef\u001b[39;00m \u001b[38;5;21m__enter__\u001b[39m(\u001b[38;5;28mself\u001b[39m):\n\u001b[1;32m---> 32\u001b[0m     signal\u001b[38;5;241m.\u001b[39msignal(\u001b[43msignal\u001b[49m\u001b[38;5;241;43m.\u001b[39;49m\u001b[43mSIGALRM\u001b[49m, \u001b[38;5;28mself\u001b[39m\u001b[38;5;241m.\u001b[39mtimeout_handler)\n\u001b[0;32m     33\u001b[0m     signal\u001b[38;5;241m.\u001b[39malarm(\u001b[38;5;28mself\u001b[39m\u001b[38;5;241m.\u001b[39mseconds)\n",
      "\u001b[1;31mAttributeError\u001b[0m: module 'signal' has no attribute 'SIGALRM'"
     ]
    }
   ],
   "source": [
    "answer = interface.run(prompt, time_out=10)\n",
    "print('\\n==========================')\n",
    "print(f'The answer is {answer}.')"
   ]
  },
  {
   "cell_type": "code",
   "execution_count": null,
   "metadata": {},
   "outputs": [],
   "source": []
  },
  {
   "cell_type": "code",
   "execution_count": 9,
   "metadata": {},
   "outputs": [
    {
     "data": {
      "text/plain": [
       "'1.47.0'"
      ]
     },
     "execution_count": 9,
     "metadata": {},
     "output_type": "execute_result"
    }
   ],
   "source": [
    "openai.__version__"
   ]
  }
 ],
 "metadata": {
  "kernelspec": {
   "display_name": "agents",
   "language": "python",
   "name": "python3"
  },
  "language_info": {
   "codemirror_mode": {
    "name": "ipython",
    "version": 3
   },
   "file_extension": ".py",
   "mimetype": "text/x-python",
   "name": "python",
   "nbconvert_exporter": "python",
   "pygments_lexer": "ipython3",
   "version": "3.11.9"
  }
 },
 "nbformat": 4,
 "nbformat_minor": 2
}
