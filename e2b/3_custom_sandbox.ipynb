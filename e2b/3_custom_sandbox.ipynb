{
 "cells": [
  {
   "cell_type": "markdown",
   "metadata": {},
   "source": [
    "# Custom Sandbox"
   ]
  },
  {
   "cell_type": "markdown",
   "metadata": {},
   "source": [
    "https://e2b.dev/docs/guide/custom-sandbox"
   ]
  },
  {
   "cell_type": "code",
   "execution_count": 1,
   "metadata": {},
   "outputs": [],
   "source": [
    "# Get your API keys or save them to .env file.\n",
    "import os\n",
    "from dotenv import load_dotenv\n",
    "load_dotenv()\n",
    "\n",
    "# TODO: Get your OpenAI API key\n",
    "OPENAI_API_KEY = os.getenv(\"OPENAI_API_KEY\")\n",
    "\n",
    "# TODO: Get your E2B API key from https://e2b.dev/docs\n",
    "E2B_API_KEY = os.getenv(\"E2B_API_KEY\")"
   ]
  },
  {
   "cell_type": "code",
   "execution_count": 2,
   "metadata": {},
   "outputs": [
    {
     "name": "stdout",
     "output_type": "stream",
     "text": [
      "Is '.dockerenv' directory? False\n",
      "Is '.e2b' directory? False\n",
      "Is 'bin' directory? False\n",
      "Is 'boot' directory? True\n",
      "Is 'code' directory? True\n",
      "Is 'dev' directory? True\n",
      "Is 'etc' directory? True\n",
      "Is 'home' directory? True\n",
      "Is 'lib' directory? False\n",
      "Is 'lib32' directory? False\n",
      "Is 'lib64' directory? False\n",
      "Is 'libx32' directory? False\n",
      "Is 'lost+found' directory? True\n",
      "Is 'media' directory? True\n",
      "Is 'mnt' directory? True\n",
      "Is 'opt' directory? True\n",
      "Is 'proc' directory? True\n",
      "Is 'root' directory? True\n",
      "Is 'run' directory? True\n",
      "Is 'sbin' directory? False\n",
      "Is 'srv' directory? True\n",
      "Is 'swap' directory? True\n",
      "Is 'sys' directory? True\n",
      "Is 'tmp' directory? True\n",
      "Is 'usr' directory? True\n",
      "Is 'var' directory? True\n"
     ]
    }
   ],
   "source": [
    "from e2b import Sandbox                                                     \n",
    "                                                                            \n",
    "# Start sandbox                                                             \n",
    "sandbox = Sandbox(template=\"vicente-sandbox\")                               \n",
    "                                                                            \n",
    "# List the root directory\n",
    "content = sandbox.filesystem.list(\"/\")  \n",
    "for item in content:\n",
    "    print(f\"Is '{item.name}' directory?\", item.is_dir)                                 \n",
    "                                                                            \n",
    "# Close sandbox once done                                                   \n",
    "sandbox.close()                                                             \n",
    " \n"
   ]
  },
  {
   "cell_type": "markdown",
   "metadata": {},
   "source": [
    "# Software engineer"
   ]
  }
 ],
 "metadata": {
  "kernelspec": {
   "display_name": "agents",
   "language": "python",
   "name": "python3"
  },
  "language_info": {
   "codemirror_mode": {
    "name": "ipython",
    "version": 3
   },
   "file_extension": ".py",
   "mimetype": "text/x-python",
   "name": "python",
   "nbconvert_exporter": "python",
   "pygments_lexer": "ipython3",
   "version": "3.11.10"
  }
 },
 "nbformat": 4,
 "nbformat_minor": 2
}
