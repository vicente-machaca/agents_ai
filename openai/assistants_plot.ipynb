{
 "cells": [
  {
   "cell_type": "markdown",
   "metadata": {},
   "source": [
    "# Example of matplotlib"
   ]
  },
  {
   "cell_type": "markdown",
   "metadata": {},
   "source": [
    "Example of openai code interpreter. Generation of python script for plotting and then getting the image results."
   ]
  },
  {
   "cell_type": "code",
   "execution_count": 2,
   "metadata": {},
   "outputs": [],
   "source": [
    "from openai import OpenAI\n",
    "from dotenv import load_dotenv, find_dotenv\n",
    "from pathlib import Path\n",
    "import os\n",
    "\n",
    "# en windows es necesario especificar la ruta del .env\n",
    "#load_dotenv(Path(\"C:\\projects\\rag\\.env\"))\n",
    "load_dotenv(Path(\"/home/vicente/projects/agents_ai/.env\"))\n",
    "client = OpenAI(api_key=os.environ.get(\"OPENAI_API_KEY\"))"
   ]
  },
  {
   "cell_type": "code",
   "execution_count": 3,
   "metadata": {},
   "outputs": [],
   "source": [
    "output_file_name = \"functions.py\"\n",
    "assistant_instruction = r\"\"\"Generate {} file, always. Make the file id available to download. \n",
    "You are software programer and your goal is to write a python scripts.\"\"\".format(output_file_name)\n",
    "\n",
    "assistant = client.beta.assistants.create(\n",
    "  name=\"Code writer assistant\",\n",
    "  description=\"Code writer assistant\",  \n",
    "  model=\"gpt-4o\",\n",
    "  instructions = assistant_instruction,\n",
    "  tools=[{\"type\": \"code_interpreter\"}]  \n",
    ")"
   ]
  },
  {
   "cell_type": "code",
   "execution_count": 4,
   "metadata": {},
   "outputs": [],
   "source": [
    "thread = client.beta.threads.create(\n",
    "  messages=[\n",
    "    {\n",
    "      \"role\": \"user\",\n",
    "      \"content\": \"Write a python code for plotting a quadratic and linear functions using matplotlib\"      \n",
    "    }\n",
    "  ]\n",
    ")"
   ]
  },
  {
   "cell_type": "code",
   "execution_count": 5,
   "metadata": {},
   "outputs": [],
   "source": [
    "run = client.beta.threads.runs.create_and_poll(\n",
    "  thread_id=thread.id,\n",
    "  assistant_id=assistant.id\n",
    ")"
   ]
  },
  {
   "cell_type": "code",
   "execution_count": 6,
   "metadata": {},
   "outputs": [
    {
     "name": "stdout",
     "output_type": "stream",
     "text": [
      "SyncCursorPage[Message](data=[Message(id='msg_xqGCwn59JfL7HybPSAN8VTYZ', assistant_id='asst_wN0w3iUVYNZ8wYUrlpbQZbJC', attachments=[Attachment(file_id='file-yO40miBnNe3uGfEHek1Y6eFh', tools=[CodeInterpreterTool(type='code_interpreter')])], completed_at=None, content=[TextContentBlock(text=Text(annotations=[FilePathAnnotation(end_index=139, file_path=FilePath(file_id='file-yO40miBnNe3uGfEHek1Y6eFh'), start_index=109, text='sandbox:/mnt/data/functions.py', type='file_path')], value='The `functions.py` file has been created. You can download it using the link below:\\n\\n[Download functions.py](sandbox:/mnt/data/functions.py)'), type='text')], created_at=1725984634, incomplete_at=None, incomplete_details=None, metadata={}, object='thread.message', role='assistant', run_id='run_O3fYwoVFguXm0WhRpCa7MHsl', status=None, thread_id='thread_tRrSaI1cKHDwT6qv10DNlyGj'), Message(id='msg_L8s0JdPrNVK9cjHXDm2VG8OF', assistant_id='asst_wN0w3iUVYNZ8wYUrlpbQZbJC', attachments=[], completed_at=None, content=[TextContentBlock(text=Text(annotations=[], value='Sure, I\\'ll write a Python module named `functions.py` that will contain functions for plotting quadratic and linear functions using matplotlib.\\n\\nHere is the content of the `functions.py` file:\\n\\n```python\\nimport matplotlib.pyplot as plt\\nimport numpy as np\\n\\ndef plot_quadratic(a, b, c, x_range):\\n    \"\"\"\\n    Plot a quadratic function of the form f(x) = ax^2 + bx + c.\\n\\n    Parameters:\\n    a, b, c (float): Coefficients of the quadratic equation\\n    x_range (tuple): Range of x values as (xmin, xmax)\\n    \"\"\"\\n    x = np.linspace(x_range[0], x_range[1], 400)\\n    y = a * x**2 + b * x + c\\n    \\n    plt.figure()\\n    plt.plot(x, y, label=f\\'{a}x² + {b}x + {c}\\')\\n    plt.title(\\'Quadratic Function\\')\\n    plt.xlabel(\\'x\\')\\n    plt.ylabel(\\'f(x)\\')\\n    plt.legend()\\n    plt.grid(True)\\n    plt.show()\\n\\n\\ndef plot_linear(m, b, x_range):\\n    \"\"\"\\n    Plot a linear function of the form f(x) = mx + b.\\n\\n    Parameters:\\n    m, b (float): Slope and y-intercept of the linear equation\\n    x_range (tuple): Range of x values as (xmin, xmax)\\n    \"\"\"\\n    x = np.linspace(x_range[0], x_range[1], 400)\\n    y = m * x + b\\n    \\n    plt.figure()\\n    plt.plot(x, y, label=f\\'{m}x + {b}\\')\\n    plt.title(\\'Linear Function\\')\\n    plt.xlabel(\\'x\\')\\n    plt.ylabel(\\'f(x)\\')\\n    plt.legend()\\n    plt.grid(True)\\n    plt.show()\\n```\\n\\nNow, I will save this content to a file named `functions.py` and provide a downloadable link for you.'), type='text')], created_at=1725984624, incomplete_at=None, incomplete_details=None, metadata={}, object='thread.message', role='assistant', run_id='run_O3fYwoVFguXm0WhRpCa7MHsl', status=None, thread_id='thread_tRrSaI1cKHDwT6qv10DNlyGj'), Message(id='msg_cjWOnWRq5W2mwB6Xf94gHIZO', assistant_id=None, attachments=[], completed_at=None, content=[TextContentBlock(text=Text(annotations=[], value='Write a python code for plotting a quadratic and linear functions using matplotlib'), type='text')], created_at=1725984613, incomplete_at=None, incomplete_details=None, metadata={}, object='thread.message', role='user', run_id=None, status=None, thread_id='thread_tRrSaI1cKHDwT6qv10DNlyGj')], object='list', first_id='msg_xqGCwn59JfL7HybPSAN8VTYZ', last_id='msg_cjWOnWRq5W2mwB6Xf94gHIZO', has_more=False)\n"
     ]
    }
   ],
   "source": [
    "if run.status == 'completed': \n",
    "  messages = client.beta.threads.messages.list(\n",
    "    thread_id=thread.id\n",
    "  )\n",
    "  print(messages)\n",
    "else:\n",
    "  print(run.status)"
   ]
  },
  {
   "cell_type": "code",
   "execution_count": 7,
   "metadata": {},
   "outputs": [
    {
     "name": "stdout",
     "output_type": "stream",
     "text": [
      "Text(annotations=[FilePathAnnotation(end_index=139, file_path=FilePath(file_id='file-yO40miBnNe3uGfEHek1Y6eFh'), start_index=109, text='sandbox:/mnt/data/functions.py', type='file_path')], value='The `functions.py` file has been created. You can download it using the link below:\\n\\n[Download functions.py](sandbox:/mnt/data/functions.py)')\n",
      "[FilePathAnnotation(end_index=139, file_path=FilePath(file_id='file-yO40miBnNe3uGfEHek1Y6eFh'), start_index=109, text='sandbox:/mnt/data/functions.py', type='file_path')]\n",
      "The `functions.py` file has been created. You can download it using the link below:\n",
      "\n",
      "[Download functions.py](sandbox:/mnt/data/functions.py)\n"
     ]
    }
   ],
   "source": [
    "output = messages.data[0].content[0].text.value\n",
    "print(messages.data[0].content[0].text)\n",
    "print(messages.data[0].content[0].text.annotations)\n",
    "print(output)"
   ]
  },
  {
   "cell_type": "code",
   "execution_count": 8,
   "metadata": {},
   "outputs": [],
   "source": [
    "messages = client.beta.threads.messages.list(thread_id=thread.id)\n",
    "file_path = messages.data[0].content[0].text.annotations[0].file_path.file_id\n",
    "file_name = client.files.with_raw_response.retrieve_content(file_path)\n",
    "\n",
    "with open(output_file_name, \"wb\") as file:  \n",
    "    file.write(file_name.content) "
   ]
  },
  {
   "cell_type": "markdown",
   "metadata": {},
   "source": [
    "# Asking to return the PNG images"
   ]
  },
  {
   "cell_type": "code",
   "execution_count": 9,
   "metadata": {},
   "outputs": [],
   "source": [
    "output_file_name = \"functions_output.png\"\n",
    "assistant_instruction = r\"\"\"Generate {} file, always. Make the file id available to download. \n",
    "You are software programer and your goal is to write a python scripts that outputs plots in PNG format using matPlotlib.\"\"\".format(output_file_name)\n",
    "\n",
    "assistant = client.beta.assistants.create(\n",
    "  name=\"Code writer assistant\",\n",
    "  description=\"Code writer assistant\",  \n",
    "  model=\"gpt-4o\",\n",
    "  instructions = assistant_instruction,\n",
    "  tools=[{\"type\": \"code_interpreter\"}]  \n",
    ")"
   ]
  },
  {
   "cell_type": "code",
   "execution_count": 11,
   "metadata": {},
   "outputs": [],
   "source": [
    "thread = client.beta.threads.create(\n",
    "  messages=[\n",
    "    {\n",
    "      \"role\": \"user\",\n",
    "      \"content\": \"Write a python code for plotting a quadratic and linear functions using matplotlib. Then run the code and save the plot in PNG file.\"      \n",
    "    }\n",
    "  ]\n",
    ")"
   ]
  },
  {
   "cell_type": "code",
   "execution_count": 12,
   "metadata": {},
   "outputs": [],
   "source": [
    "run = client.beta.threads.runs.create_and_poll(\n",
    "  thread_id=thread.id,\n",
    "  assistant_id=assistant.id\n",
    ")"
   ]
  },
  {
   "cell_type": "code",
   "execution_count": 19,
   "metadata": {},
   "outputs": [
    {
     "name": "stdout",
     "output_type": "stream",
     "text": [
      "SyncCursorPage[Message](data=[Message(id='msg_snwridarqXy97MrbpfYU6CiN', assistant_id='asst_uQkHLEjiV4BOpMZimVp7gRV5', attachments=[Attachment(file_id='file-suS8jBtkE8QRA9m6XEx1y1v0', tools=[CodeInterpreterTool(type='code_interpreter')])], completed_at=None, content=[ImageFileContentBlock(image_file=ImageFile(file_id='file-Jr6foStHqmLfELq6TfiLtC4g', detail=None), type='image_file'), TextContentBlock(text=Text(annotations=[FilePathAnnotation(end_index=204, file_path=FilePath(file_id='file-suS8jBtkE8QRA9m6XEx1y1v0'), start_index=166, text='sandbox:/mnt/data/functions_output.png', type='file_path')], value='The plot of the quadratic and linear functions has been generated and saved as a PNG file. You can download it using the link below:\\n\\n[Download functions_output.png](sandbox:/mnt/data/functions_output.png)'), type='text')], created_at=1725984885, incomplete_at=None, incomplete_details=None, metadata={}, object='thread.message', role='assistant', run_id='run_7JkoGWBYNOFHq0ZX1oXlxWKi', status=None, thread_id='thread_VQnYdonYhErenf8e5em8nGG6'), Message(id='msg_2djMhl5C7m4pZZnH0OplHy8n', assistant_id='asst_uQkHLEjiV4BOpMZimVp7gRV5', attachments=[], completed_at=None, content=[TextContentBlock(text=Text(annotations=[], value=\"Sure, here is a python code that uses matplotlib to plot quadratic and linear functions and saves the plot in a PNG file.\\n\\n```python\\nimport numpy as np\\nimport matplotlib.pyplot as plt\\n\\n# Define the range for x\\nx = np.linspace(-10, 10, 400)\\n\\n# Define the quadratic function y = ax^2 + bx + c\\na, b, c = 1, 0, 0  # Example coefficients\\nquadratic_y = a * x**2 + b * x + c\\n\\n# Define the linear function y = mx + c\\nm, c = 1, 0  # Example coefficients\\nlinear_y = m * x + c\\n\\n# Create the plot\\nplt.figure(figsize=(10, 6))\\n\\n# Plot the quadratic function\\nplt.plot(x, quadratic_y, label='Quadratic: $y = x^2$', color='blue')\\n\\n# Plot the linear function\\nplt.plot(x, linear_y, label='Linear: $y = x$', color='green')\\n\\n# Add title and labels\\nplt.title('Quadratic and Linear Functions')\\nplt.xlabel('x')\\nplt.ylabel('y')\\n\\n# Add a legend\\nplt.legend()\\n\\n# Save the plot as a PNG file\\nplt.savefig('/mnt/data/functions_output.png')\\n\\n# Display the plot\\nplt.show()\\n```\\n\\nLet's execute this code.\"), type='text')], created_at=1725984870, incomplete_at=None, incomplete_details=None, metadata={}, object='thread.message', role='assistant', run_id='run_7JkoGWBYNOFHq0ZX1oXlxWKi', status=None, thread_id='thread_VQnYdonYhErenf8e5em8nGG6'), Message(id='msg_jXt8ew3kheqJ3EJ7CEAGeytD', assistant_id=None, attachments=[], completed_at=None, content=[TextContentBlock(text=Text(annotations=[], value='Write a python code for plotting a quadratic and linear functions using matplotlib. Then run the code and save the plot in PNG file.'), type='text')], created_at=1725984857, incomplete_at=None, incomplete_details=None, metadata={}, object='thread.message', role='user', run_id=None, status=None, thread_id='thread_VQnYdonYhErenf8e5em8nGG6')], object='list', first_id='msg_snwridarqXy97MrbpfYU6CiN', last_id='msg_jXt8ew3kheqJ3EJ7CEAGeytD', has_more=False)\n",
      "ImageFile(file_id='file-Jr6foStHqmLfELq6TfiLtC4g', detail=None)\n"
     ]
    }
   ],
   "source": [
    "if run.status == 'completed': \n",
    "  messages = client.beta.threads.messages.list(\n",
    "    thread_id=thread.id\n",
    "  )\n",
    "  print(messages)\n",
    "  output = messages.data[0].content[0].image_file\n",
    "  print(output)\n",
    "else:\n",
    "  print(run.status)"
   ]
  },
  {
   "cell_type": "code",
   "execution_count": 20,
   "metadata": {},
   "outputs": [],
   "source": [
    "messages = client.beta.threads.messages.list(thread_id=thread.id)\n",
    "file_path = messages.data[0].content[0].image_file.file_id\n",
    "file_name = client.files.with_raw_response.retrieve_content(file_path)\n",
    "\n",
    "with open(output_file_name, \"wb\") as file:  \n",
    "    file.write(file_name.content) "
   ]
  }
 ],
 "metadata": {
  "kernelspec": {
   "display_name": "rag",
   "language": "python",
   "name": "python3"
  },
  "language_info": {
   "codemirror_mode": {
    "name": "ipython",
    "version": 3
   },
   "file_extension": ".py",
   "mimetype": "text/x-python",
   "name": "python",
   "nbconvert_exporter": "python",
   "pygments_lexer": "ipython3",
   "version": "3.8.19"
  }
 },
 "nbformat": 4,
 "nbformat_minor": 2
}
