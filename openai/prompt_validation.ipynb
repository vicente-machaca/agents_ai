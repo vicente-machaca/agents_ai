{
 "cells": [
  {
   "cell_type": "markdown",
   "metadata": {},
   "source": [
    "# Prompt Validation"
   ]
  },
  {
   "cell_type": "markdown",
   "metadata": {},
   "source": [
    "Example of prompt validation for Case 0 and 1"
   ]
  },
  {
   "cell_type": "code",
   "execution_count": 1,
   "metadata": {},
   "outputs": [],
   "source": [
    "from openai import OpenAI\n",
    "from dotenv import load_dotenv, find_dotenv\n",
    "from pathlib import Path\n",
    "import os\n",
    "\n",
    "# en windows es necesario especificar la ruta del .env\n",
    "load_dotenv()\n",
    "client = OpenAI(api_key=os.environ.get(\"OPENAI_API_KEY\"))"
   ]
  },
  {
   "cell_type": "markdown",
   "metadata": {},
   "source": [
    "Case 0"
   ]
  },
  {
   "cell_type": "code",
   "execution_count": 2,
   "metadata": {},
   "outputs": [
    {
     "data": {
      "text/plain": [
       "\"question: How's the weather like in Paris?\\nweather_information:  Currently in Paris, it is partly cloudy with a temperature of 22°C. There is a chance of rain later in the evening, so you might want to carry an umbrella just in case.\""
      ]
     },
     "execution_count": 2,
     "metadata": {},
     "output_type": "execute_result"
    }
   ],
   "source": [
    "prompt = \"\"\"\n",
    "You are the weather man!.\n",
    "Provide weather information based on the user question.\n",
    "\n",
    "---\n",
    "In your answer follow the following format.\n",
    "question: ${question}\n",
    "weather_information: in human language\n",
    "\n",
    "\"\"\"\n",
    "completion = client.chat.completions.create(\n",
    "  model=\"gpt-3.5-turbo\",\n",
    "  messages=[\n",
    "    {\n",
    "      \"role\":\"system\",\n",
    "      \"content\":prompt\n",
    "    },\n",
    "    {\n",
    "      \"role\":\"user\",\"content\":\"How'’s the weather like in Paris?\"\n",
    "    }\n",
    "]\n",
    "\n",
    ")\n",
    "message = completion.choices[0].message.content\n",
    "message"
   ]
  },
  {
   "cell_type": "markdown",
   "metadata": {},
   "source": [
    "Case 0 improved"
   ]
  },
  {
   "cell_type": "code",
   "execution_count": 4,
   "metadata": {},
   "outputs": [
    {
     "data": {
      "text/plain": [
       "\"question: How's the weather like in Madrid?\\nweather_information: Temperature 26°C, wind of 5 km/h, and mostly sunny.\""
      ]
     },
     "execution_count": 4,
     "metadata": {},
     "output_type": "execute_result"
    }
   ],
   "source": [
    "prompt = \"\"\"\n",
    "You are the weather man!.\n",
    "Provide weather information based on the user question.\n",
    "\n",
    "---\n",
    "In your answer follow the following format.\n",
    "question: ${question}\n",
    "weather_information: in human language\n",
    "\n",
    "Use this example:\n",
    "question: How's the weather like in Paris?\n",
    "weather_information: Temperature 22°C, winds of 10 km/h and cloudly\n",
    "\n",
    "\"\"\"\n",
    "completion = client.chat.completions.create(\n",
    "  model=\"gpt-3.5-turbo\",\n",
    "  messages=[\n",
    "    {\n",
    "      \"role\":\"system\",\n",
    "      \"content\":prompt\n",
    "    },\n",
    "    {\n",
    "      \"role\":\"user\",\"content\":\"How'’s the weather like in Madrid?\"\n",
    "    }\n",
    "]\n",
    "\n",
    ")\n",
    "message = completion.choices[0].message.content\n",
    "message"
   ]
  }
 ],
 "metadata": {
  "kernelspec": {
   "display_name": "base",
   "language": "python",
   "name": "python3"
  },
  "language_info": {
   "codemirror_mode": {
    "name": "ipython",
    "version": 3
   },
   "file_extension": ".py",
   "mimetype": "text/x-python",
   "name": "python",
   "nbconvert_exporter": "python",
   "pygments_lexer": "ipython3",
   "version": "3.11.9"
  }
 },
 "nbformat": 4,
 "nbformat_minor": 2
}
