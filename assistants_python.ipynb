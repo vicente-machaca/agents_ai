{
 "cells": [
  {
   "cell_type": "markdown",
   "metadata": {},
   "source": [
    "# A Python software engineer"
   ]
  },
  {
   "cell_type": "markdown",
   "metadata": {},
   "source": [
    "Some insights. This is the beta verions:\n",
    "- Sometimes the code interpreter cannot generate output files, it depends on the prompting.\n",
    "- Sometimes, the source code generated have sintax errors."
   ]
  },
  {
   "cell_type": "code",
   "execution_count": null,
   "metadata": {},
   "outputs": [],
   "source": [
    "from openai import OpenAI\n",
    "from dotenv import load_dotenv, find_dotenv\n",
    "from pathlib import Path\n",
    "import os\n",
    "\n",
    "# en windows es necesario especificar la ruta del .env\n",
    "#load_dotenv(Path(\"C:\\projects\\rag\\.env\"))\n",
    "load_dotenv(Path(\"/home/vicente/projects/agents_ai/.env\"))\n",
    "client = OpenAI(api_key=os.environ.get(\"OPENAI_API_KEY\"))"
   ]
  },
  {
   "cell_type": "markdown",
   "metadata": {},
   "source": [
    "This is an example of a Python software engineer who can refactor, develop test units and run test units."
   ]
  },
  {
   "cell_type": "code",
   "execution_count": 2,
   "metadata": {},
   "outputs": [],
   "source": [
    "file = client.files.create(\n",
    "  file=open(\"play_tetris.py\", \"rb\"),\n",
    "  purpose='assistants'\n",
    ")"
   ]
  },
  {
   "cell_type": "markdown",
   "metadata": {},
   "source": [
    "Some times, we cannot downlod the outputfile. We must ensure to include in instructinos, the name of the file and \"Make the file id available to download\"."
   ]
  },
  {
   "cell_type": "code",
   "execution_count": 3,
   "metadata": {},
   "outputs": [],
   "source": [
    "output_file_name = \"play_tetris_refactored.py\"\n",
    "assistant_instruction = r\"\"\"Generate {} file, always. Make the file id available to download. You are software engineer, your goal is to help another engineer write code using Python. \n",
    "  Focus on writting clean, performant and concise code to solve the problem.  \"\"\".format(output_file_name)\n",
    "\n",
    "assistant = client.beta.assistants.create(\n",
    "  name=\"Code writer assistant\",\n",
    "  description=\"Code writer assistant\",  \n",
    "  model=\"gpt-4o\",\n",
    "  instructions = assistant_instruction,\n",
    "  tools=[{\"type\": \"code_interpreter\"}],\n",
    "  tool_resources={\n",
    "    \"code_interpreter\": {\n",
    "      \"file_ids\": [file.id]\n",
    "    }\n",
    "  }  \n",
    ")"
   ]
  },
  {
   "cell_type": "code",
   "execution_count": 4,
   "metadata": {},
   "outputs": [],
   "source": [
    "thread = client.beta.threads.create(\n",
    "  messages=[\n",
    "    {\n",
    "      \"role\": \"user\",\n",
    "      \"content\": \"Refactor this file.\",\n",
    "      \"attachments\": [\n",
    "        {\n",
    "          \"file_id\": file.id,\n",
    "          \"tools\": [{\"type\": \"code_interpreter\"}]\n",
    "        }\n",
    "      ]\n",
    "    }\n",
    "  ]\n",
    ")"
   ]
  },
  {
   "cell_type": "code",
   "execution_count": 5,
   "metadata": {},
   "outputs": [],
   "source": [
    "run = client.beta.threads.runs.create_and_poll(\n",
    "  thread_id=thread.id,\n",
    "  assistant_id=assistant.id\n",
    ")"
   ]
  },
  {
   "cell_type": "code",
   "execution_count": 6,
   "metadata": {},
   "outputs": [
    {
     "name": "stdout",
     "output_type": "stream",
     "text": [
      "SyncCursorPage[Message](data=[Message(id='msg_EdKxMvum4sKIVzDprolUd25p', assistant_id='asst_0cmrtBfRVkwWsRxiMivI8uCQ', attachments=[Attachment(file_id='file-1XhAEx2KrIgJyehPhfRQ7aUa', tools=[CodeInterpreterTool(type='code_interpreter')])], completed_at=None, content=[TextContentBlock(text=Text(annotations=[FilePathAnnotation(end_index=191, file_path=FilePath(file_id='file-1XhAEx2KrIgJyehPhfRQ7aUa'), start_index=148, text='sandbox:/mnt/data/play_tetris_refactored.py', type='file_path')], value='The refactored code has been saved to `play_tetris_refactored.py`. You can download it using the link below:\\n\\n[Download the refactored Tetris game](sandbox:/mnt/data/play_tetris_refactored.py)'), type='text')], created_at=1725983895, incomplete_at=None, incomplete_details=None, metadata={}, object='thread.message', role='assistant', run_id='run_Kl6h8HT84MS3LeI6yHr2g6Ae', status=None, thread_id='thread_cg7oYa81eOxoGP96m9DCkSig'), Message(id='msg_wBI5SnTjEIEjnU5fJXZy0YSl', assistant_id='asst_0cmrtBfRVkwWsRxiMivI8uCQ', attachments=[], completed_at=None, content=[TextContentBlock(text=Text(annotations=[], value='The provided code implements a simple text-based Tetris game. The code includes several functions and constants but can certainly be refactored for better readability and structure. Here is a cleaned up and refactored version of the Tetris game:\\n\\n```python\\n#!/usr/bin/python\\n\\n\"\"\"\\nPython implementation of text-mode version of the Tetris game\\n\\nQuick play instructions:\\n\\n - a (return): move piece left\\n - d (return): move piece right\\n - w (return): rotate piece counter clockwise\\n - s (return): rotate piece clockwise\\n - e (return): just move the piece downwards as is\\n\"\"\"\\n\\nimport os\\nimport random\\nimport sys\\nfrom copy import deepcopy\\n\\n# Constants\\nBOARD_SIZE = 20\\nEFF_BOARD_SIZE = BOARD_SIZE + 2  # Adding walls\\n\\n# Tetris pieces\\nPIECES = [\\n    [[1], [1], [1], [1]],  # I\\n    [[1, 0], [1, 0], [1, 1]],  # J\\n    [[0, 1], [0, 1], [1, 1]],  # L\\n    [[0, 1], [1, 1], [1, 0]],  # S\\n    [[1, 1], [1, 1]]  # O\\n]\\n\\n# User inputs\\nMOVE_LEFT = \\'a\\'\\nMOVE_RIGHT = \\'d\\'\\nROTATE_ANTICLOCKWISE = \\'w\\'\\nROTATE_CLOCKWISE = \\'s\\'\\nNO_MOVE = \\'e\\'\\nQUIT_GAME = \\'q\\'\\n\\ndef print_board(board, curr_piece, piece_pos, error_message=\\'\\'):\\n    os.system(\\'cls\\' if os.name == \\'nt\\' else \\'clear\\')\\n    print(\"Text mode version of the TETRIS game\\\\n\\\\n\")\\n\\n    board_copy = deepcopy(board)\\n    for i in range(len(curr_piece)):\\n        for j in range(len(curr_piece[0])):\\n            board_copy[piece_pos[0] + i][piece_pos[1] + j] |= curr_piece[i][j]\\n\\n    for i in range(EFF_BOARD_SIZE):\\n        for j in range(EFF_BOARD_SIZE):\\n            print(\"[]\" if board_copy[i][j] == 1 else \"  \", end=\"\")\\n        print()\\n\\n    if error_message:\\n        print(f\"\\\\n{error_message}\")\\n\\n    print(\"Instructions: a (left), d (right), w (rotate ccw), s (rotate cw), e (down, default), q (quit)\\\\n\")\\n\\ndef get_empty_board():\\n    board = [[0] * EFF_BOARD_SIZE for _ in range(EFF_BOARD_SIZE)]\\n    for i in range(EFF_BOARD_SIZE):\\n        board[i][0] = board[i][EFF_BOARD_SIZE - 1] = 1  # Walls\\n    for j in range(EFF_BOARD_SIZE):\\n        board[EFF_BOARD_SIZE - 1][j] = 1  # Floor\\n    return board\\n\\ndef get_random_piece():\\n    return deepcopy(random.choice(PIECES))\\n\\ndef get_random_position(piece):\\n    return [0, random.randint(1, BOARD_SIZE - len(piece[0]))]\\n\\ndef can_move(board, piece, pos, dx, dy):\\n    for i in range(len(piece)):\\n        for j in range(len(piece[0])):\\n            if piece[i][j] and board[pos[0] + i + dx][pos[1] + j + dy]:\\n                return False\\n    return True\\n\\ndef apply_move(pos, dx, dy):\\n    return [pos[0] + dx, pos[1] + dy]\\n\\ndef rotate_piece(piece, clockwise=True):\\n    return [[piece[j][i] for j in range(len(piece))] for i in range(len(piece[0]) - 1, -1, -1)] if clockwise \\\\\\n        else [[piece[j][i] for j in range(len(piece) - 1, -1, -1)] for i in range(len(piece[0]))]\\n\\ndef merge_piece(board, piece, pos):\\n    for i in range(len(piece)):\\n        for j in range(len(piece[0])):\\n            board[pos[0] + i][pos[1] + j] |= piece[i][j]\\n\\ndef play_game():\\n    board = get_empty_board()\\n    curr_piece = get_random_piece()\\n    piece_pos = get_random_position(curr_piece)\\n    error_msg = \\'\\'\\n\\n    while True:\\n        do_move_down = False\\n        print_board(board, curr_piece, piece_pos, error_message=error_msg)\\n        error_msg = \\'\\'\\n\\n        player_move = input().strip().lower()\\n        if player_move == MOVE_LEFT and can_move(board, curr_piece, piece_pos, 0, -1):\\n            piece_pos = apply_move(piece_pos, 0, -1)\\n            do_move_down = True\\n        elif player_move == MOVE_RIGHT and can_move(board, curr_piece, piece_pos, 0, 1):\\n            piece_pos = apply_move(piece_pos, 0, 1)\\n            do_move_down = True\\n        elif player_move == ROTATE_ANTICLOCKWISE and can_move(board, rotate_piece(curr_piece, False), piece_pos, 0, 0):\\n            curr_piece = rotate_piece(curr_piece, False)\\n            do_move_down = True\\n        elif player_move == ROTATE_CLOCKWISE and can_move(board, rotate_piece(curr_piece, True), piece_pos, 0, 0):\\n            curr_piece = rotate_piece(curr_piece, True)\\n            do_move_down = True\\n        elif player_move == NO_MOVE:\\n            do_move_down = True\\n        elif player_move == QUIT_GAME:\\n            print(\"Bye. Thank you for playing!\")\\n            sys.exit(0)\\n        else:\\n            error_msg = \"Invalid move!\"\\n\\n        if do_move_down and can_move(board, curr_piece, piece_pos, 1, 0):\\n            piece_pos = apply_move(piece_pos, 1, 0)\\n\\n        if not can_move(board, curr_piece, piece_pos, 1, 0):\\n            merge_piece(board, curr_piece, piece_pos)\\n            curr_piece = get_random_piece()\\n            piece_pos = get_random_position(curr_piece)\\n\\n            if not can_move(board, curr_piece, piece_pos, 0, 0):\\n                break\\n\\n    print(\"GAME OVER!\")\\n\\nif __name__ == \"__main__\":\\n    play_game()\\n```\\n\\n### Summary of Changes:\\n1. Structured code with better functions.\\n2. Reduced redundancy in move logic.\\n3. Improved readability by standardizing function/method names and variables.\\n\\n### Next Steps:\\nI will create the file `play_tetris_refactored.py` and save the code to it.'), type='text')], created_at=1725983864, incomplete_at=None, incomplete_details=None, metadata={}, object='thread.message', role='assistant', run_id='run_Kl6h8HT84MS3LeI6yHr2g6Ae', status=None, thread_id='thread_cg7oYa81eOxoGP96m9DCkSig'), Message(id='msg_ClxYPxOKFrIR671G0Q5aZeHQ', assistant_id=None, attachments=[Attachment(file_id='file-i8LhgFf6rmT4gInFzgVEcDsV', tools=[CodeInterpreterTool(type='code_interpreter')])], completed_at=None, content=[TextContentBlock(text=Text(annotations=[], value='Refactor this file.'), type='text')], created_at=1725983857, incomplete_at=None, incomplete_details=None, metadata={}, object='thread.message', role='user', run_id=None, status=None, thread_id='thread_cg7oYa81eOxoGP96m9DCkSig')], object='list', first_id='msg_EdKxMvum4sKIVzDprolUd25p', last_id='msg_ClxYPxOKFrIR671G0Q5aZeHQ', has_more=False)\n"
     ]
    }
   ],
   "source": [
    "if run.status == 'completed': \n",
    "  messages = client.beta.threads.messages.list(\n",
    "    thread_id=thread.id\n",
    "  )\n",
    "  print(messages)\n",
    "else:\n",
    "  print(run.status)"
   ]
  },
  {
   "cell_type": "markdown",
   "metadata": {},
   "source": [
    "Parsing results"
   ]
  },
  {
   "cell_type": "code",
   "execution_count": 7,
   "metadata": {},
   "outputs": [
    {
     "name": "stdout",
     "output_type": "stream",
     "text": [
      "Text(annotations=[FilePathAnnotation(end_index=191, file_path=FilePath(file_id='file-1XhAEx2KrIgJyehPhfRQ7aUa'), start_index=148, text='sandbox:/mnt/data/play_tetris_refactored.py', type='file_path')], value='The refactored code has been saved to `play_tetris_refactored.py`. You can download it using the link below:\\n\\n[Download the refactored Tetris game](sandbox:/mnt/data/play_tetris_refactored.py)')\n",
      "[FilePathAnnotation(end_index=191, file_path=FilePath(file_id='file-1XhAEx2KrIgJyehPhfRQ7aUa'), start_index=148, text='sandbox:/mnt/data/play_tetris_refactored.py', type='file_path')]\n",
      "The refactored code has been saved to `play_tetris_refactored.py`. You can download it using the link below:\n",
      "\n",
      "[Download the refactored Tetris game](sandbox:/mnt/data/play_tetris_refactored.py)\n"
     ]
    }
   ],
   "source": [
    "output = messages.data[0].content[0].text.value\n",
    "print(messages.data[0].content[0].text)\n",
    "print(messages.data[0].content[0].text.annotations)\n",
    "print(output)"
   ]
  },
  {
   "cell_type": "code",
   "execution_count": 8,
   "metadata": {},
   "outputs": [],
   "source": [
    "messages = client.beta.threads.messages.list(thread_id=thread.id)\n",
    "file_path = messages.data[0].content[0].text.annotations[0].file_path.file_id\n",
    "file_name = client.files.with_raw_response.retrieve_content(file_path)\n",
    "\n",
    "with open(output_file_name, \"wb\") as file:  \n",
    "    file.write(file_name.content) "
   ]
  },
  {
   "cell_type": "markdown",
   "metadata": {},
   "source": [
    "# Unit tests"
   ]
  },
  {
   "cell_type": "markdown",
   "metadata": {},
   "source": [
    "We have two option, we can procced in a similar way as the beginning to get the unit test; however, in this case we can continue in the same thread."
   ]
  },
  {
   "cell_type": "code",
   "execution_count": 9,
   "metadata": {},
   "outputs": [],
   "source": [
    "message = client.beta.threads.messages.create(\n",
    "    thread_id=thread.id,\n",
    "    role=\"user\",\n",
    "    content=\"Write a simple unit test for that file. Generate a play_tetris_unit_test.py file, always. Make the file id available to download.\")"
   ]
  },
  {
   "cell_type": "code",
   "execution_count": 10,
   "metadata": {},
   "outputs": [],
   "source": [
    "run = client.beta.threads.runs.create_and_poll(\n",
    "  thread_id=thread.id,\n",
    "  assistant_id=assistant.id\n",
    ")"
   ]
  },
  {
   "cell_type": "code",
   "execution_count": 11,
   "metadata": {},
   "outputs": [
    {
     "name": "stdout",
     "output_type": "stream",
     "text": [
      "SyncCursorPage[Message](data=[Message(id='msg_J0IVpZGZ3cLmsZzLXAyKHMhl', assistant_id='asst_0cmrtBfRVkwWsRxiMivI8uCQ', attachments=[Attachment(file_id='file-ZTVkkgnVjaEY4bMj7TGiID3K', tools=[CodeInterpreterTool(type='code_interpreter')])], completed_at=None, content=[TextContentBlock(text=Text(annotations=[FilePathAnnotation(end_index=191, file_path=FilePath(file_id='file-ZTVkkgnVjaEY4bMj7TGiID3K'), start_index=149, text='sandbox:/mnt/data/play_tetris_unit_test.py', type='file_path')], value='The unit test code has been saved to `play_tetris_unit_test.py`. You can download it using the link below:\\n\\n[Download the unit test for Tetris game](sandbox:/mnt/data/play_tetris_unit_test.py)'), type='text')], created_at=1725983942, incomplete_at=None, incomplete_details=None, metadata={}, object='thread.message', role='assistant', run_id='run_TFQQ2w5uuNBQP8DRYXBg1DSA', status=None, thread_id='thread_cg7oYa81eOxoGP96m9DCkSig'), Message(id='msg_9zfXnpOHuBrncr1pGonKPAHX', assistant_id='asst_0cmrtBfRVkwWsRxiMivI8uCQ', attachments=[], completed_at=None, content=[TextContentBlock(text=Text(annotations=[], value='Here\\'s a simple unit test for the refactored Tetris game. This unit test will focus on testing a few specific functions to ensure they behave as expected. We will use the `unittest` framework for this purpose.\\n\\nThe focus will be on testing:\\n1. Generating an empty board.\\n2. Generating random pieces.\\n3. Moving pieces.\\n4. Rotating pieces.\\n5. Checking valid and invalid moves.\\n\\nI will create a file named `play_tetris_unit_test.py` containing these unit tests.\\n\\n```python\\nimport unittest\\nfrom copy import deepcopy\\nfrom play_tetris_refactored import (\\n    get_empty_board,\\n    get_random_piece,\\n    get_random_position,\\n    can_move,\\n    apply_move,\\n    rotate_piece\\n)\\n\\nclass TestTetris(unittest.TestCase):\\n\\n    def test_get_empty_board(self):\\n        board = get_empty_board()\\n        self.assertEqual(len(board), 22)  # EFF_BOARD_SIZE = 20 + 2\\n        self.assertEqual(len(board[0]), 22)\\n        # Check that the walls and floor are correctly set\\n        for i in range(len(board)):\\n            self.assertEqual(board[i][0], 1)\\n            self.assertEqual(board[i][-1], 1)\\n        for j in range(len(board[0])):\\n            self.assertEqual(board[-1][j], 1)\\n\\n    def test_get_random_piece(self):\\n        piece = get_random_piece()\\n        self.assertIn(piece, deepcopy(list({1, 2, 3, 4, 5})))\\n\\n    def test_get_random_position(self):\\n        piece = [[1, 1], [1, 1]]\\n        pos = get_random_position(piece)\\n        self.assertEqual(pos[0], 0)\\n        self.assertTrue(1 <= pos[1] < 20 - len(piece[0]) + 1)  # BOARD_SIZE - piece width + 1\\n\\n    def test_can_move(self):\\n        board = get_empty_board()\\n        piece = [[1, 1], [1, 1]]\\n        pos = [1, 1]\\n        self.assertTrue(can_move(board, piece, pos, 0, 1))  # Move right\\n        self.assertTrue(can_move(board, piece, pos, 1, 0))  # Move down\\n        self.assertFalse(can_move(board, piece, pos, 0, -1))  # Move left into wall\\n        self.assertFalse(can_move(board, piece, [19, 1], 1, 0))  # Move down into floor\\n\\n    def test_apply_move(self):\\n        pos = [5, 5]\\n        new_pos = apply_move(pos, 1, -1)\\n        self.assertEqual(new_pos, [6, 4])\\n\\n    def test_rotate_piece(self):\\n        piece = [[1, 0], [1, 1]]\\n        rotated_piece = rotate_piece(piece, clockwise=True)\\n        expected_piece = [[1, 1], [1, 0]]\\n        self.assertEqual(rotated_piece, expected_piece)\\n        rotated_piece_ccw = rotate_piece(expected_piece, clockwise=False)\\n        self.assertEqual(rotated_piece_ccw, piece)\\n\\nif __name__ == \"__main__\":\\n    unittest.main()\\n```\\n\\nThis script tests only a few key functions from the Tetris game to ensure they work correctly. The tests include:\\n- Checking the dimensions and walls of the generated board.\\n- Ensuring a random piece is picked from the list of defined pieces.\\n- Checking the random position generation logic.\\n- Validating movements of pieces including boundary conditions.\\n- Verifying the rotation logic.\\n\\nI will now save this test code to `play_tetris_unit_test.py`.'), type='text')], created_at=1725983923, incomplete_at=None, incomplete_details=None, metadata={}, object='thread.message', role='assistant', run_id='run_TFQQ2w5uuNBQP8DRYXBg1DSA', status=None, thread_id='thread_cg7oYa81eOxoGP96m9DCkSig'), Message(id='msg_vSwKD3GtAzriN9ZBDMXHV6cT', assistant_id=None, attachments=[], completed_at=None, content=[TextContentBlock(text=Text(annotations=[], value='Write a simple unit test for that file. Generate a play_tetris_unit_test.py file, always. Make the file id available to download.'), type='text')], created_at=1725983918, incomplete_at=None, incomplete_details=None, metadata={}, object='thread.message', role='user', run_id=None, status=None, thread_id='thread_cg7oYa81eOxoGP96m9DCkSig'), Message(id='msg_EdKxMvum4sKIVzDprolUd25p', assistant_id='asst_0cmrtBfRVkwWsRxiMivI8uCQ', attachments=[Attachment(file_id='file-1XhAEx2KrIgJyehPhfRQ7aUa', tools=[CodeInterpreterTool(type='code_interpreter')])], completed_at=None, content=[TextContentBlock(text=Text(annotations=[FilePathAnnotation(end_index=191, file_path=FilePath(file_id='file-1XhAEx2KrIgJyehPhfRQ7aUa'), start_index=148, text='sandbox:/mnt/data/play_tetris_refactored.py', type='file_path')], value='The refactored code has been saved to `play_tetris_refactored.py`. You can download it using the link below:\\n\\n[Download the refactored Tetris game](sandbox:/mnt/data/play_tetris_refactored.py)'), type='text')], created_at=1725983895, incomplete_at=None, incomplete_details=None, metadata={}, object='thread.message', role='assistant', run_id='run_Kl6h8HT84MS3LeI6yHr2g6Ae', status=None, thread_id='thread_cg7oYa81eOxoGP96m9DCkSig'), Message(id='msg_wBI5SnTjEIEjnU5fJXZy0YSl', assistant_id='asst_0cmrtBfRVkwWsRxiMivI8uCQ', attachments=[], completed_at=None, content=[TextContentBlock(text=Text(annotations=[], value='The provided code implements a simple text-based Tetris game. The code includes several functions and constants but can certainly be refactored for better readability and structure. Here is a cleaned up and refactored version of the Tetris game:\\n\\n```python\\n#!/usr/bin/python\\n\\n\"\"\"\\nPython implementation of text-mode version of the Tetris game\\n\\nQuick play instructions:\\n\\n - a (return): move piece left\\n - d (return): move piece right\\n - w (return): rotate piece counter clockwise\\n - s (return): rotate piece clockwise\\n - e (return): just move the piece downwards as is\\n\"\"\"\\n\\nimport os\\nimport random\\nimport sys\\nfrom copy import deepcopy\\n\\n# Constants\\nBOARD_SIZE = 20\\nEFF_BOARD_SIZE = BOARD_SIZE + 2  # Adding walls\\n\\n# Tetris pieces\\nPIECES = [\\n    [[1], [1], [1], [1]],  # I\\n    [[1, 0], [1, 0], [1, 1]],  # J\\n    [[0, 1], [0, 1], [1, 1]],  # L\\n    [[0, 1], [1, 1], [1, 0]],  # S\\n    [[1, 1], [1, 1]]  # O\\n]\\n\\n# User inputs\\nMOVE_LEFT = \\'a\\'\\nMOVE_RIGHT = \\'d\\'\\nROTATE_ANTICLOCKWISE = \\'w\\'\\nROTATE_CLOCKWISE = \\'s\\'\\nNO_MOVE = \\'e\\'\\nQUIT_GAME = \\'q\\'\\n\\ndef print_board(board, curr_piece, piece_pos, error_message=\\'\\'):\\n    os.system(\\'cls\\' if os.name == \\'nt\\' else \\'clear\\')\\n    print(\"Text mode version of the TETRIS game\\\\n\\\\n\")\\n\\n    board_copy = deepcopy(board)\\n    for i in range(len(curr_piece)):\\n        for j in range(len(curr_piece[0])):\\n            board_copy[piece_pos[0] + i][piece_pos[1] + j] |= curr_piece[i][j]\\n\\n    for i in range(EFF_BOARD_SIZE):\\n        for j in range(EFF_BOARD_SIZE):\\n            print(\"[]\" if board_copy[i][j] == 1 else \"  \", end=\"\")\\n        print()\\n\\n    if error_message:\\n        print(f\"\\\\n{error_message}\")\\n\\n    print(\"Instructions: a (left), d (right), w (rotate ccw), s (rotate cw), e (down, default), q (quit)\\\\n\")\\n\\ndef get_empty_board():\\n    board = [[0] * EFF_BOARD_SIZE for _ in range(EFF_BOARD_SIZE)]\\n    for i in range(EFF_BOARD_SIZE):\\n        board[i][0] = board[i][EFF_BOARD_SIZE - 1] = 1  # Walls\\n    for j in range(EFF_BOARD_SIZE):\\n        board[EFF_BOARD_SIZE - 1][j] = 1  # Floor\\n    return board\\n\\ndef get_random_piece():\\n    return deepcopy(random.choice(PIECES))\\n\\ndef get_random_position(piece):\\n    return [0, random.randint(1, BOARD_SIZE - len(piece[0]))]\\n\\ndef can_move(board, piece, pos, dx, dy):\\n    for i in range(len(piece)):\\n        for j in range(len(piece[0])):\\n            if piece[i][j] and board[pos[0] + i + dx][pos[1] + j + dy]:\\n                return False\\n    return True\\n\\ndef apply_move(pos, dx, dy):\\n    return [pos[0] + dx, pos[1] + dy]\\n\\ndef rotate_piece(piece, clockwise=True):\\n    return [[piece[j][i] for j in range(len(piece))] for i in range(len(piece[0]) - 1, -1, -1)] if clockwise \\\\\\n        else [[piece[j][i] for j in range(len(piece) - 1, -1, -1)] for i in range(len(piece[0]))]\\n\\ndef merge_piece(board, piece, pos):\\n    for i in range(len(piece)):\\n        for j in range(len(piece[0])):\\n            board[pos[0] + i][pos[1] + j] |= piece[i][j]\\n\\ndef play_game():\\n    board = get_empty_board()\\n    curr_piece = get_random_piece()\\n    piece_pos = get_random_position(curr_piece)\\n    error_msg = \\'\\'\\n\\n    while True:\\n        do_move_down = False\\n        print_board(board, curr_piece, piece_pos, error_message=error_msg)\\n        error_msg = \\'\\'\\n\\n        player_move = input().strip().lower()\\n        if player_move == MOVE_LEFT and can_move(board, curr_piece, piece_pos, 0, -1):\\n            piece_pos = apply_move(piece_pos, 0, -1)\\n            do_move_down = True\\n        elif player_move == MOVE_RIGHT and can_move(board, curr_piece, piece_pos, 0, 1):\\n            piece_pos = apply_move(piece_pos, 0, 1)\\n            do_move_down = True\\n        elif player_move == ROTATE_ANTICLOCKWISE and can_move(board, rotate_piece(curr_piece, False), piece_pos, 0, 0):\\n            curr_piece = rotate_piece(curr_piece, False)\\n            do_move_down = True\\n        elif player_move == ROTATE_CLOCKWISE and can_move(board, rotate_piece(curr_piece, True), piece_pos, 0, 0):\\n            curr_piece = rotate_piece(curr_piece, True)\\n            do_move_down = True\\n        elif player_move == NO_MOVE:\\n            do_move_down = True\\n        elif player_move == QUIT_GAME:\\n            print(\"Bye. Thank you for playing!\")\\n            sys.exit(0)\\n        else:\\n            error_msg = \"Invalid move!\"\\n\\n        if do_move_down and can_move(board, curr_piece, piece_pos, 1, 0):\\n            piece_pos = apply_move(piece_pos, 1, 0)\\n\\n        if not can_move(board, curr_piece, piece_pos, 1, 0):\\n            merge_piece(board, curr_piece, piece_pos)\\n            curr_piece = get_random_piece()\\n            piece_pos = get_random_position(curr_piece)\\n\\n            if not can_move(board, curr_piece, piece_pos, 0, 0):\\n                break\\n\\n    print(\"GAME OVER!\")\\n\\nif __name__ == \"__main__\":\\n    play_game()\\n```\\n\\n### Summary of Changes:\\n1. Structured code with better functions.\\n2. Reduced redundancy in move logic.\\n3. Improved readability by standardizing function/method names and variables.\\n\\n### Next Steps:\\nI will create the file `play_tetris_refactored.py` and save the code to it.'), type='text')], created_at=1725983864, incomplete_at=None, incomplete_details=None, metadata={}, object='thread.message', role='assistant', run_id='run_Kl6h8HT84MS3LeI6yHr2g6Ae', status=None, thread_id='thread_cg7oYa81eOxoGP96m9DCkSig'), Message(id='msg_ClxYPxOKFrIR671G0Q5aZeHQ', assistant_id=None, attachments=[Attachment(file_id='file-i8LhgFf6rmT4gInFzgVEcDsV', tools=[CodeInterpreterTool(type='code_interpreter')])], completed_at=None, content=[TextContentBlock(text=Text(annotations=[], value='Refactor this file.'), type='text')], created_at=1725983857, incomplete_at=None, incomplete_details=None, metadata={}, object='thread.message', role='user', run_id=None, status=None, thread_id='thread_cg7oYa81eOxoGP96m9DCkSig')], object='list', first_id='msg_J0IVpZGZ3cLmsZzLXAyKHMhl', last_id='msg_ClxYPxOKFrIR671G0Q5aZeHQ', has_more=False)\n"
     ]
    }
   ],
   "source": [
    "if run.status == 'completed': \n",
    "  messages = client.beta.threads.messages.list(\n",
    "    thread_id=thread.id\n",
    "  )\n",
    "  print(messages)\n",
    "else:\n",
    "  print(run.status)"
   ]
  },
  {
   "cell_type": "code",
   "execution_count": 12,
   "metadata": {},
   "outputs": [
    {
     "name": "stdout",
     "output_type": "stream",
     "text": [
      "Text(annotations=[FilePathAnnotation(end_index=191, file_path=FilePath(file_id='file-ZTVkkgnVjaEY4bMj7TGiID3K'), start_index=149, text='sandbox:/mnt/data/play_tetris_unit_test.py', type='file_path')], value='The unit test code has been saved to `play_tetris_unit_test.py`. You can download it using the link below:\\n\\n[Download the unit test for Tetris game](sandbox:/mnt/data/play_tetris_unit_test.py)')\n",
      "[FilePathAnnotation(end_index=191, file_path=FilePath(file_id='file-ZTVkkgnVjaEY4bMj7TGiID3K'), start_index=149, text='sandbox:/mnt/data/play_tetris_unit_test.py', type='file_path')]\n",
      "The unit test code has been saved to `play_tetris_unit_test.py`. You can download it using the link below:\n",
      "\n",
      "[Download the unit test for Tetris game](sandbox:/mnt/data/play_tetris_unit_test.py)\n"
     ]
    }
   ],
   "source": [
    "output = messages.data[0].content[0].text.value\n",
    "print(messages.data[0].content[0].text)\n",
    "print(messages.data[0].content[0].text.annotations)\n",
    "print(output)"
   ]
  },
  {
   "cell_type": "code",
   "execution_count": 13,
   "metadata": {},
   "outputs": [],
   "source": [
    "messages = client.beta.threads.messages.list(thread_id=thread.id)\n",
    "file_path = messages.data[0].content[0].text.annotations[0].file_path.file_id\n",
    "file_name = client.files.with_raw_response.retrieve_content(file_path)\n",
    "\n",
    "with open(\"play_tetris_unit_test.py\", \"wb\") as file:  \n",
    "    file.write(file_name.content) "
   ]
  },
  {
   "cell_type": "markdown",
   "metadata": {},
   "source": [
    "# Asking for running the unit test"
   ]
  },
  {
   "cell_type": "markdown",
   "metadata": {},
   "source": [
    "I'm not sure if code interpreter is runing the unit test, because the resuts of the assistant are different when I run the unit test."
   ]
  },
  {
   "cell_type": "code",
   "execution_count": 14,
   "metadata": {},
   "outputs": [],
   "source": [
    "message = client.beta.threads.messages.create(\n",
    "    thread_id=thread.id,\n",
    "    role=\"user\",\n",
    "    content=\"Run the unit test and show the results\")"
   ]
  },
  {
   "cell_type": "code",
   "execution_count": 15,
   "metadata": {},
   "outputs": [],
   "source": [
    "run = client.beta.threads.runs.create_and_poll(\n",
    "  thread_id=thread.id,\n",
    "  assistant_id=assistant.id)"
   ]
  },
  {
   "cell_type": "code",
   "execution_count": 19,
   "metadata": {},
   "outputs": [
    {
     "name": "stdout",
     "output_type": "stream",
     "text": [
      "failed\n"
     ]
    }
   ],
   "source": [
    "if run.status == 'completed': \n",
    "  messages = client.beta.threads.messages.list(\n",
    "    thread_id=thread.id\n",
    "  )\n",
    "  print(messages)\n",
    "else:\n",
    "  print(run.status)"
   ]
  },
  {
   "cell_type": "markdown",
   "metadata": {},
   "source": [
    "The results are different"
   ]
  },
  {
   "cell_type": "code",
   "execution_count": 17,
   "metadata": {},
   "outputs": [
    {
     "name": "stdout",
     "output_type": "stream",
     "text": [
      "Text(annotations=[FilePathAnnotation(end_index=191, file_path=FilePath(file_id='file-ZTVkkgnVjaEY4bMj7TGiID3K'), start_index=149, text='sandbox:/mnt/data/play_tetris_unit_test.py', type='file_path')], value='The unit test code has been saved to `play_tetris_unit_test.py`. You can download it using the link below:\\n\\n[Download the unit test for Tetris game](sandbox:/mnt/data/play_tetris_unit_test.py)')\n",
      "[FilePathAnnotation(end_index=191, file_path=FilePath(file_id='file-ZTVkkgnVjaEY4bMj7TGiID3K'), start_index=149, text='sandbox:/mnt/data/play_tetris_unit_test.py', type='file_path')]\n",
      "The unit test code has been saved to `play_tetris_unit_test.py`. You can download it using the link below:\n",
      "\n",
      "[Download the unit test for Tetris game](sandbox:/mnt/data/play_tetris_unit_test.py)\n"
     ]
    }
   ],
   "source": [
    "output = messages.data[0].content[0].text.value\n",
    "print(messages.data[0].content[0].text)\n",
    "print(messages.data[0].content[0].text.annotations)\n",
    "print(output)"
   ]
  }
 ],
 "metadata": {
  "kernelspec": {
   "display_name": "rag",
   "language": "python",
   "name": "python3"
  },
  "language_info": {
   "codemirror_mode": {
    "name": "ipython",
    "version": 3
   },
   "file_extension": ".py",
   "mimetype": "text/x-python",
   "name": "python",
   "nbconvert_exporter": "python",
   "pygments_lexer": "ipython3",
   "version": "3.8.19"
  }
 },
 "nbformat": 4,
 "nbformat_minor": 2
}
