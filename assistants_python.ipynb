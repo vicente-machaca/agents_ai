{
 "cells": [
  {
   "cell_type": "markdown",
   "metadata": {},
   "source": [
    "# A Python software engineer"
   ]
  },
  {
   "cell_type": "markdown",
   "metadata": {},
   "source": [
    "Some insights. This is the beta verions:\n",
    "- Sometimes the code interpreter cannot generate output files, it depends on the prompting.\n",
    "- Sometimes, the source code generated have sintax errors."
   ]
  },
  {
   "cell_type": "code",
   "execution_count": 14,
   "metadata": {},
   "outputs": [],
   "source": [
    "from openai import OpenAI\n",
    "from dotenv import load_dotenv, find_dotenv\n",
    "from pathlib import Path\n",
    "import os\n",
    "\n",
    "# en windows es necesario especificar la ruta del .env\n",
    "load_dotenv(Path(\"C:\\projects\\rag\\.env\"))\n",
    "client = OpenAI(api_key=os.environ.get(\"OPENAI_API_KEY\"))"
   ]
  },
  {
   "cell_type": "markdown",
   "metadata": {},
   "source": [
    "This is an example of a Python software engineer who can refactor, develop test units and run test units."
   ]
  },
  {
   "cell_type": "code",
   "execution_count": 15,
   "metadata": {},
   "outputs": [],
   "source": [
    "file = client.files.create(\n",
    "  file=open(\"play_tetris.py\", \"rb\"),\n",
    "  purpose='assistants'\n",
    ")"
   ]
  },
  {
   "cell_type": "markdown",
   "metadata": {},
   "source": [
    "Some times, we cannot downlod the outputfile. We must ensure to include in instructinos, the name of the file and \"Make the file id available to download\"."
   ]
  },
  {
   "cell_type": "code",
   "execution_count": 16,
   "metadata": {},
   "outputs": [],
   "source": [
    "output_file_name = \"play_tetris_refactored.py\"\n",
    "assistant_instruction = r\"\"\"Generate {} file, always. Make the file id available to download. You are software engineer, your goal is to help another engineer write code using Python. \n",
    "  Focus on writting clean, performant and concise code to solve the problem.  \"\"\".format(output_file_name)\n",
    "\n",
    "assistant = client.beta.assistants.create(\n",
    "  name=\"Code writer assistant\",\n",
    "  description=\"Code writer assistant\",  \n",
    "  model=\"gpt-4o\",\n",
    "  instructions = assistant_instruction,\n",
    "  tools=[{\"type\": \"code_interpreter\"}],\n",
    "  tool_resources={\n",
    "    \"code_interpreter\": {\n",
    "      \"file_ids\": [file.id]\n",
    "    }\n",
    "  }  \n",
    ")"
   ]
  },
  {
   "cell_type": "code",
   "execution_count": 17,
   "metadata": {},
   "outputs": [],
   "source": [
    "thread = client.beta.threads.create(\n",
    "  messages=[\n",
    "    {\n",
    "      \"role\": \"user\",\n",
    "      \"content\": \"Refactor this file.\",\n",
    "      \"attachments\": [\n",
    "        {\n",
    "          \"file_id\": file.id,\n",
    "          \"tools\": [{\"type\": \"code_interpreter\"}]\n",
    "        }\n",
    "      ]\n",
    "    }\n",
    "  ]\n",
    ")"
   ]
  },
  {
   "cell_type": "code",
   "execution_count": 18,
   "metadata": {},
   "outputs": [],
   "source": [
    "run = client.beta.threads.runs.create_and_poll(\n",
    "  thread_id=thread.id,\n",
    "  assistant_id=assistant.id\n",
    ")"
   ]
  },
  {
   "cell_type": "code",
   "execution_count": 19,
   "metadata": {},
   "outputs": [
    {
     "name": "stdout",
     "output_type": "stream",
     "text": [
      "SyncCursorPage[Message](data=[Message(id='msg_sLaFH2QFdkfAPM0w7DrfarB8', assistant_id='asst_RYoRdhXH2YX6gjTcRH1GHAJG', attachments=[Attachment(file_id='file-MTk3CpMQGyFXVckJ4bup5YKC', tools=[CodeInterpreterTool(type='code_interpreter')])], completed_at=None, content=[TextContentBlock(text=Text(annotations=[FilePathAnnotation(end_index=171, file_path=FilePath(file_id='file-MTk3CpMQGyFXVckJ4bup5YKC'), start_index=128, text='sandbox:/mnt/data/play_tetris_refactored.py', type='file_path')], value='The refactored Tetris script has been saved. You can download it using the link below:\\n\\n[Download the refactored Tetris script](sandbox:/mnt/data/play_tetris_refactored.py)\\n\\nFeel free to run and test it in your local environment where interactive input is supported.'), type='text')], created_at=1725937574, incomplete_at=None, incomplete_details=None, metadata={}, object='thread.message', role='assistant', run_id='run_2cCmPSp7MW5WMZzBohDgIkBQ', status=None, thread_id='thread_glN3qEqmUo2i2UVuQdSbzrVF'), Message(id='msg_bwTgql4hgr4pVuoZkpOinT0F', assistant_id='asst_RYoRdhXH2YX6gjTcRH1GHAJG', attachments=[], completed_at=None, content=[TextContentBlock(text=Text(annotations=[], value=\"The refactored code has been written and initially tested. However, due to the environment's limitations—in particular, the inability to handle `input()` requests—it's not possible to run the script interactively here.\\n\\nI'll save the refactored script as `play_tetris_refactored.py` and provide a download link for you.\"), type='text')], created_at=1725937552, incomplete_at=None, incomplete_details=None, metadata={}, object='thread.message', role='assistant', run_id='run_2cCmPSp7MW5WMZzBohDgIkBQ', status=None, thread_id='thread_glN3qEqmUo2i2UVuQdSbzrVF'), Message(id='msg_q2l375StX0hDzkiUHQgvfnAH', assistant_id='asst_RYoRdhXH2YX6gjTcRH1GHAJG', attachments=[], completed_at=None, content=[TextContentBlock(text=Text(annotations=[], value=\"The code seems to be a Python implementation of a text-mode Tetris game. I will refactor this script, focusing on improving readability, maintainability, and modularity.\\n\\nHere is an overview of the original code:\\n1. Constants are defined.\\n2. Functions are defined to handle different game mechanics.\\n3. The main game loop is implemented.\\n\\nI will:\\n1. Define separate modules for constants, game mechanics, and main game loop.\\n2. Use appropriate naming conventions and docstrings for better readability.\\n3. Organize imports.\\n\\nLet's get started with the refactoring:\"), type='text')], created_at=1725937532, incomplete_at=None, incomplete_details=None, metadata={}, object='thread.message', role='assistant', run_id='run_2cCmPSp7MW5WMZzBohDgIkBQ', status=None, thread_id='thread_glN3qEqmUo2i2UVuQdSbzrVF'), Message(id='msg_kaOPuzM539dyWB3GK9Wa9cH6', assistant_id=None, attachments=[Attachment(file_id='file-YHxGfZO39gPQMOl9OYqkdu4g', tools=[CodeInterpreterTool(type='code_interpreter')])], completed_at=None, content=[TextContentBlock(text=Text(annotations=[], value='Refactor this file.'), type='text')], created_at=1725937527, incomplete_at=None, incomplete_details=None, metadata={}, object='thread.message', role='user', run_id=None, status=None, thread_id='thread_glN3qEqmUo2i2UVuQdSbzrVF')], object='list', first_id='msg_sLaFH2QFdkfAPM0w7DrfarB8', last_id='msg_kaOPuzM539dyWB3GK9Wa9cH6', has_more=False)\n"
     ]
    }
   ],
   "source": [
    "if run.status == 'completed': \n",
    "  messages = client.beta.threads.messages.list(\n",
    "    thread_id=thread.id\n",
    "  )\n",
    "  print(messages)\n",
    "else:\n",
    "  print(run.status)"
   ]
  },
  {
   "cell_type": "markdown",
   "metadata": {},
   "source": [
    "Parsing results"
   ]
  },
  {
   "cell_type": "code",
   "execution_count": 20,
   "metadata": {},
   "outputs": [
    {
     "name": "stdout",
     "output_type": "stream",
     "text": [
      "Text(annotations=[FilePathAnnotation(end_index=171, file_path=FilePath(file_id='file-MTk3CpMQGyFXVckJ4bup5YKC'), start_index=128, text='sandbox:/mnt/data/play_tetris_refactored.py', type='file_path')], value='The refactored Tetris script has been saved. You can download it using the link below:\\n\\n[Download the refactored Tetris script](sandbox:/mnt/data/play_tetris_refactored.py)\\n\\nFeel free to run and test it in your local environment where interactive input is supported.')\n",
      "[FilePathAnnotation(end_index=171, file_path=FilePath(file_id='file-MTk3CpMQGyFXVckJ4bup5YKC'), start_index=128, text='sandbox:/mnt/data/play_tetris_refactored.py', type='file_path')]\n",
      "The refactored Tetris script has been saved. You can download it using the link below:\n",
      "\n",
      "[Download the refactored Tetris script](sandbox:/mnt/data/play_tetris_refactored.py)\n",
      "\n",
      "Feel free to run and test it in your local environment where interactive input is supported.\n"
     ]
    }
   ],
   "source": [
    "output = messages.data[0].content[0].text.value\n",
    "print(messages.data[0].content[0].text)\n",
    "print(messages.data[0].content[0].text.annotations)\n",
    "print(output)"
   ]
  },
  {
   "cell_type": "code",
   "execution_count": 21,
   "metadata": {},
   "outputs": [],
   "source": [
    "messages = client.beta.threads.messages.list(thread_id=thread.id)\n",
    "file_path = messages.data[0].content[0].text.annotations[0].file_path.file_id\n",
    "file_name = client.files.with_raw_response.retrieve_content(file_path)\n",
    "\n",
    "with open(output_file_name, \"wb\") as file:  \n",
    "    file.write(file_name.content) "
   ]
  },
  {
   "cell_type": "markdown",
   "metadata": {},
   "source": [
    "# Unit tests"
   ]
  },
  {
   "cell_type": "markdown",
   "metadata": {},
   "source": [
    "We have two option, we can procced in a similar way as the beginning to get the unit test; however, in this case we can continue in the same thread."
   ]
  },
  {
   "cell_type": "code",
   "execution_count": 22,
   "metadata": {},
   "outputs": [],
   "source": [
    "message = client.beta.threads.messages.create(\n",
    "    thread_id=thread.id,\n",
    "    role=\"user\",\n",
    "    content=\"Write a simple unit test for that file. Generate a play_tetris_unit_test.py file, always. Make the file id available to download.\")"
   ]
  },
  {
   "cell_type": "code",
   "execution_count": 23,
   "metadata": {},
   "outputs": [],
   "source": [
    "run = client.beta.threads.runs.create_and_poll(\n",
    "  thread_id=thread.id,\n",
    "  assistant_id=assistant.id\n",
    ")"
   ]
  },
  {
   "cell_type": "code",
   "execution_count": 24,
   "metadata": {},
   "outputs": [
    {
     "name": "stdout",
     "output_type": "stream",
     "text": [
      "SyncCursorPage[Message](data=[Message(id='msg_GRmqQsgKScbrngD1IlDn38ZV', assistant_id='asst_RYoRdhXH2YX6gjTcRH1GHAJG', attachments=[Attachment(file_id='file-08Grj9Yko9w7jut3Gcp79fWC', tools=[CodeInterpreterTool(type='code_interpreter')])], completed_at=None, content=[TextContentBlock(text=Text(annotations=[FilePathAnnotation(end_index=189, file_path=FilePath(file_id='file-08Grj9Yko9w7jut3Gcp79fWC'), start_index=147, text='sandbox:/mnt/data/play_tetris_unit_test.py', type='file_path')], value='The unit test for the refactored Tetris script has been created. You can download it using the link below:\\n\\n[Download the Tetris unit test script](sandbox:/mnt/data/play_tetris_unit_test.py)\\n\\nFeel free to run and test it in your local environment to ensure the Tetris script works as expected.'), type='text')], created_at=1725937614, incomplete_at=None, incomplete_details=None, metadata={}, object='thread.message', role='assistant', run_id='run_2lW7gFZliOnsyIoyWngjNAKZ', status=None, thread_id='thread_glN3qEqmUo2i2UVuQdSbzrVF'), Message(id='msg_NdbBajwWcf2AgNTNMKBEt7fM', assistant_id=None, attachments=[], completed_at=None, content=[TextContentBlock(text=Text(annotations=[], value='Write a simple unit test for that file. Generate a play_tetris_unit_test.py file, always. Make the file id available to download.'), type='text')], created_at=1725937604, incomplete_at=None, incomplete_details=None, metadata={}, object='thread.message', role='user', run_id=None, status=None, thread_id='thread_glN3qEqmUo2i2UVuQdSbzrVF'), Message(id='msg_sLaFH2QFdkfAPM0w7DrfarB8', assistant_id='asst_RYoRdhXH2YX6gjTcRH1GHAJG', attachments=[Attachment(file_id='file-MTk3CpMQGyFXVckJ4bup5YKC', tools=[CodeInterpreterTool(type='code_interpreter')])], completed_at=None, content=[TextContentBlock(text=Text(annotations=[FilePathAnnotation(end_index=171, file_path=FilePath(file_id='file-MTk3CpMQGyFXVckJ4bup5YKC'), start_index=128, text='sandbox:/mnt/data/play_tetris_refactored.py', type='file_path')], value='The refactored Tetris script has been saved. You can download it using the link below:\\n\\n[Download the refactored Tetris script](sandbox:/mnt/data/play_tetris_refactored.py)\\n\\nFeel free to run and test it in your local environment where interactive input is supported.'), type='text')], created_at=1725937574, incomplete_at=None, incomplete_details=None, metadata={}, object='thread.message', role='assistant', run_id='run_2cCmPSp7MW5WMZzBohDgIkBQ', status=None, thread_id='thread_glN3qEqmUo2i2UVuQdSbzrVF'), Message(id='msg_bwTgql4hgr4pVuoZkpOinT0F', assistant_id='asst_RYoRdhXH2YX6gjTcRH1GHAJG', attachments=[], completed_at=None, content=[TextContentBlock(text=Text(annotations=[], value=\"The refactored code has been written and initially tested. However, due to the environment's limitations—in particular, the inability to handle `input()` requests—it's not possible to run the script interactively here.\\n\\nI'll save the refactored script as `play_tetris_refactored.py` and provide a download link for you.\"), type='text')], created_at=1725937552, incomplete_at=None, incomplete_details=None, metadata={}, object='thread.message', role='assistant', run_id='run_2cCmPSp7MW5WMZzBohDgIkBQ', status=None, thread_id='thread_glN3qEqmUo2i2UVuQdSbzrVF'), Message(id='msg_q2l375StX0hDzkiUHQgvfnAH', assistant_id='asst_RYoRdhXH2YX6gjTcRH1GHAJG', attachments=[], completed_at=None, content=[TextContentBlock(text=Text(annotations=[], value=\"The code seems to be a Python implementation of a text-mode Tetris game. I will refactor this script, focusing on improving readability, maintainability, and modularity.\\n\\nHere is an overview of the original code:\\n1. Constants are defined.\\n2. Functions are defined to handle different game mechanics.\\n3. The main game loop is implemented.\\n\\nI will:\\n1. Define separate modules for constants, game mechanics, and main game loop.\\n2. Use appropriate naming conventions and docstrings for better readability.\\n3. Organize imports.\\n\\nLet's get started with the refactoring:\"), type='text')], created_at=1725937532, incomplete_at=None, incomplete_details=None, metadata={}, object='thread.message', role='assistant', run_id='run_2cCmPSp7MW5WMZzBohDgIkBQ', status=None, thread_id='thread_glN3qEqmUo2i2UVuQdSbzrVF'), Message(id='msg_kaOPuzM539dyWB3GK9Wa9cH6', assistant_id=None, attachments=[Attachment(file_id='file-YHxGfZO39gPQMOl9OYqkdu4g', tools=[CodeInterpreterTool(type='code_interpreter')])], completed_at=None, content=[TextContentBlock(text=Text(annotations=[], value='Refactor this file.'), type='text')], created_at=1725937527, incomplete_at=None, incomplete_details=None, metadata={}, object='thread.message', role='user', run_id=None, status=None, thread_id='thread_glN3qEqmUo2i2UVuQdSbzrVF')], object='list', first_id='msg_GRmqQsgKScbrngD1IlDn38ZV', last_id='msg_kaOPuzM539dyWB3GK9Wa9cH6', has_more=False)\n"
     ]
    }
   ],
   "source": [
    "if run.status == 'completed': \n",
    "  messages = client.beta.threads.messages.list(\n",
    "    thread_id=thread.id\n",
    "  )\n",
    "  print(messages)\n",
    "else:\n",
    "  print(run.status)"
   ]
  },
  {
   "cell_type": "code",
   "execution_count": 25,
   "metadata": {},
   "outputs": [
    {
     "name": "stdout",
     "output_type": "stream",
     "text": [
      "Text(annotations=[FilePathAnnotation(end_index=189, file_path=FilePath(file_id='file-08Grj9Yko9w7jut3Gcp79fWC'), start_index=147, text='sandbox:/mnt/data/play_tetris_unit_test.py', type='file_path')], value='The unit test for the refactored Tetris script has been created. You can download it using the link below:\\n\\n[Download the Tetris unit test script](sandbox:/mnt/data/play_tetris_unit_test.py)\\n\\nFeel free to run and test it in your local environment to ensure the Tetris script works as expected.')\n",
      "[FilePathAnnotation(end_index=189, file_path=FilePath(file_id='file-08Grj9Yko9w7jut3Gcp79fWC'), start_index=147, text='sandbox:/mnt/data/play_tetris_unit_test.py', type='file_path')]\n",
      "The unit test for the refactored Tetris script has been created. You can download it using the link below:\n",
      "\n",
      "[Download the Tetris unit test script](sandbox:/mnt/data/play_tetris_unit_test.py)\n",
      "\n",
      "Feel free to run and test it in your local environment to ensure the Tetris script works as expected.\n"
     ]
    }
   ],
   "source": [
    "output = messages.data[0].content[0].text.value\n",
    "print(messages.data[0].content[0].text)\n",
    "print(messages.data[0].content[0].text.annotations)\n",
    "print(output)"
   ]
  },
  {
   "cell_type": "code",
   "execution_count": 26,
   "metadata": {},
   "outputs": [],
   "source": [
    "messages = client.beta.threads.messages.list(thread_id=thread.id)\n",
    "file_path = messages.data[0].content[0].text.annotations[0].file_path.file_id\n",
    "file_name = client.files.with_raw_response.retrieve_content(file_path)\n",
    "\n",
    "with open(\"play_tetris_unit_test.py\", \"wb\") as file:  \n",
    "    file.write(file_name.content) "
   ]
  },
  {
   "cell_type": "markdown",
   "metadata": {},
   "source": [
    "# Asking for running the unit test"
   ]
  },
  {
   "cell_type": "markdown",
   "metadata": {},
   "source": [
    "I'm not sure if code interpreter is runing the unit test, because the resuts of the assistant are different when I run the unit test."
   ]
  },
  {
   "cell_type": "code",
   "execution_count": 27,
   "metadata": {},
   "outputs": [],
   "source": [
    "message = client.beta.threads.messages.create(\n",
    "    thread_id=thread.id,\n",
    "    role=\"user\",\n",
    "    content=\"Run the unit test and show the results\")"
   ]
  },
  {
   "cell_type": "code",
   "execution_count": 28,
   "metadata": {},
   "outputs": [],
   "source": [
    "run = client.beta.threads.runs.create_and_poll(\n",
    "  thread_id=thread.id,\n",
    "  assistant_id=assistant.id)"
   ]
  },
  {
   "cell_type": "code",
   "execution_count": 29,
   "metadata": {},
   "outputs": [
    {
     "name": "stdout",
     "output_type": "stream",
     "text": [
      "SyncCursorPage[Message](data=[Message(id='msg_r6VUedoK3S6FNqiAYVqmfrzf', assistant_id='asst_RYoRdhXH2YX6gjTcRH1GHAJG', attachments=[Attachment(file_id='file-h8Vdh56vMBw2xWCW7CkZVym7', tools=[CodeInterpreterTool(type='code_interpreter')]), Attachment(file_id='file-8EzEAuoaGb5SC3mDnnNDaQa8', tools=[CodeInterpreterTool(type='code_interpreter')])], completed_at=None, content=[TextContentBlock(text=Text(annotations=[FilePathAnnotation(end_index=488, file_path=FilePath(file_id='file-8EzEAuoaGb5SC3mDnnNDaQa8'), start_index=445, text='sandbox:/mnt/data/play_tetris_refactored.py', type='file_path'), FilePathAnnotation(end_index=572, file_path=FilePath(file_id='file-h8Vdh56vMBw2xWCW7CkZVym7'), start_index=530, text='sandbox:/mnt/data/play_tetris_unit_test.py', type='file_path')], value='The unit tests have successfully passed after correcting the rotation logic. Here is the output:\\n\\n```\\n....\\n----------------------------------------------------------------------\\nRan 4 tests in 0.001s\\n\\nOK\\n```\\n\\nThis indicates that all tests were executed successfully without any issues.\\n\\nYou can re-download the corrected refactored Tetris script and the unit test script using the links below:\\n\\n[Download the corrected refactored Tetris script](sandbox:/mnt/data/play_tetris_refactored.py)\\n\\n[Download the Tetris unit test script](sandbox:/mnt/data/play_tetris_unit_test.py)'), type='text')], created_at=1725937690, incomplete_at=None, incomplete_details=None, metadata={}, object='thread.message', role='assistant', run_id='run_TMNpt0YWkEEqfLd5XPswHNY1', status=None, thread_id='thread_glN3qEqmUo2i2UVuQdSbzrVF'), Message(id='msg_8zb4b7rCHkjCVBXb6InUw1Mp', assistant_id='asst_RYoRdhXH2YX6gjTcRH1GHAJG', attachments=[], completed_at=None, content=[TextContentBlock(text=Text(annotations=[], value='It looks like one of the tests has failed. Specifically, the `test_rotate_piece` method encountered an error. Here is the relevant portion of the failure message:\\n\\n```\\nFAIL: test_rotate_piece (__main__.TestTetris.test_rotate_piece)\\n----------------------------------------------------------------------\\nTraceback (most recent call last):\\n  File \"/mnt/data/play_tetris_unit_test.py\", line 43, in test_rotate_piece\\n    self.assertEqual(rotated_counterclockwise, expected_counterclockwise)\\nAssertionError: Lists differ: [[1, 0, 0], [1, 1, 1]] != [[0, 0, 1], [1, 1, 1]]\\n\\nFirst differing element 0:\\n[1, 0, 0]\\n[0, 0, 1]\\n\\n- [[1, 0, 0], [1, 1, 1]]\\n+ [[0, 0, 1], [1, 1, 1]]\\n\\nRan 4 tests in 0.002s\\n\\nFAILED (failures=1)\\n```\\n\\nThe issue lies in the part of the code that handles counter-clockwise rotation. The expected result and the actual result do not match.\\n\\nLet\\'s review and correct the rotation logic in the `rotate_piece()` function if necessary.\\n\\nHere\\'s the corrected rotation logic for counter-clockwise rotation:\\n\\n```python\\ndef rotate_piece(piece, clockwise=True):\\n    if clockwise:\\n        return [list(x)[::-1] for x in zip(*piece)]\\n    return [list(x) for x in zip(*piece)][::-1]\\n```\\n\\nLet\\'s update this in the refactored script and rerun the unit test.'), type='text')], created_at=1725937668, incomplete_at=None, incomplete_details=None, metadata={}, object='thread.message', role='assistant', run_id='run_TMNpt0YWkEEqfLd5XPswHNY1', status=None, thread_id='thread_glN3qEqmUo2i2UVuQdSbzrVF'), Message(id='msg_cRcs7FHHo5ZfZBFQOiwN21Iq', assistant_id=None, attachments=[], completed_at=None, content=[TextContentBlock(text=Text(annotations=[], value='Run the unit test and show the results'), type='text')], created_at=1725937661, incomplete_at=None, incomplete_details=None, metadata={}, object='thread.message', role='user', run_id=None, status=None, thread_id='thread_glN3qEqmUo2i2UVuQdSbzrVF'), Message(id='msg_GRmqQsgKScbrngD1IlDn38ZV', assistant_id='asst_RYoRdhXH2YX6gjTcRH1GHAJG', attachments=[Attachment(file_id='file-08Grj9Yko9w7jut3Gcp79fWC', tools=[CodeInterpreterTool(type='code_interpreter')])], completed_at=None, content=[TextContentBlock(text=Text(annotations=[FilePathAnnotation(end_index=189, file_path=FilePath(file_id='file-08Grj9Yko9w7jut3Gcp79fWC'), start_index=147, text='sandbox:/mnt/data/play_tetris_unit_test.py', type='file_path')], value='The unit test for the refactored Tetris script has been created. You can download it using the link below:\\n\\n[Download the Tetris unit test script](sandbox:/mnt/data/play_tetris_unit_test.py)\\n\\nFeel free to run and test it in your local environment to ensure the Tetris script works as expected.'), type='text')], created_at=1725937614, incomplete_at=None, incomplete_details=None, metadata={}, object='thread.message', role='assistant', run_id='run_2lW7gFZliOnsyIoyWngjNAKZ', status=None, thread_id='thread_glN3qEqmUo2i2UVuQdSbzrVF'), Message(id='msg_NdbBajwWcf2AgNTNMKBEt7fM', assistant_id=None, attachments=[], completed_at=None, content=[TextContentBlock(text=Text(annotations=[], value='Write a simple unit test for that file. Generate a play_tetris_unit_test.py file, always. Make the file id available to download.'), type='text')], created_at=1725937604, incomplete_at=None, incomplete_details=None, metadata={}, object='thread.message', role='user', run_id=None, status=None, thread_id='thread_glN3qEqmUo2i2UVuQdSbzrVF'), Message(id='msg_sLaFH2QFdkfAPM0w7DrfarB8', assistant_id='asst_RYoRdhXH2YX6gjTcRH1GHAJG', attachments=[Attachment(file_id='file-MTk3CpMQGyFXVckJ4bup5YKC', tools=[CodeInterpreterTool(type='code_interpreter')])], completed_at=None, content=[TextContentBlock(text=Text(annotations=[FilePathAnnotation(end_index=171, file_path=FilePath(file_id='file-MTk3CpMQGyFXVckJ4bup5YKC'), start_index=128, text='sandbox:/mnt/data/play_tetris_refactored.py', type='file_path')], value='The refactored Tetris script has been saved. You can download it using the link below:\\n\\n[Download the refactored Tetris script](sandbox:/mnt/data/play_tetris_refactored.py)\\n\\nFeel free to run and test it in your local environment where interactive input is supported.'), type='text')], created_at=1725937574, incomplete_at=None, incomplete_details=None, metadata={}, object='thread.message', role='assistant', run_id='run_2cCmPSp7MW5WMZzBohDgIkBQ', status=None, thread_id='thread_glN3qEqmUo2i2UVuQdSbzrVF'), Message(id='msg_bwTgql4hgr4pVuoZkpOinT0F', assistant_id='asst_RYoRdhXH2YX6gjTcRH1GHAJG', attachments=[], completed_at=None, content=[TextContentBlock(text=Text(annotations=[], value=\"The refactored code has been written and initially tested. However, due to the environment's limitations—in particular, the inability to handle `input()` requests—it's not possible to run the script interactively here.\\n\\nI'll save the refactored script as `play_tetris_refactored.py` and provide a download link for you.\"), type='text')], created_at=1725937552, incomplete_at=None, incomplete_details=None, metadata={}, object='thread.message', role='assistant', run_id='run_2cCmPSp7MW5WMZzBohDgIkBQ', status=None, thread_id='thread_glN3qEqmUo2i2UVuQdSbzrVF'), Message(id='msg_q2l375StX0hDzkiUHQgvfnAH', assistant_id='asst_RYoRdhXH2YX6gjTcRH1GHAJG', attachments=[], completed_at=None, content=[TextContentBlock(text=Text(annotations=[], value=\"The code seems to be a Python implementation of a text-mode Tetris game. I will refactor this script, focusing on improving readability, maintainability, and modularity.\\n\\nHere is an overview of the original code:\\n1. Constants are defined.\\n2. Functions are defined to handle different game mechanics.\\n3. The main game loop is implemented.\\n\\nI will:\\n1. Define separate modules for constants, game mechanics, and main game loop.\\n2. Use appropriate naming conventions and docstrings for better readability.\\n3. Organize imports.\\n\\nLet's get started with the refactoring:\"), type='text')], created_at=1725937532, incomplete_at=None, incomplete_details=None, metadata={}, object='thread.message', role='assistant', run_id='run_2cCmPSp7MW5WMZzBohDgIkBQ', status=None, thread_id='thread_glN3qEqmUo2i2UVuQdSbzrVF'), Message(id='msg_kaOPuzM539dyWB3GK9Wa9cH6', assistant_id=None, attachments=[Attachment(file_id='file-YHxGfZO39gPQMOl9OYqkdu4g', tools=[CodeInterpreterTool(type='code_interpreter')])], completed_at=None, content=[TextContentBlock(text=Text(annotations=[], value='Refactor this file.'), type='text')], created_at=1725937527, incomplete_at=None, incomplete_details=None, metadata={}, object='thread.message', role='user', run_id=None, status=None, thread_id='thread_glN3qEqmUo2i2UVuQdSbzrVF')], object='list', first_id='msg_r6VUedoK3S6FNqiAYVqmfrzf', last_id='msg_kaOPuzM539dyWB3GK9Wa9cH6', has_more=False)\n"
     ]
    }
   ],
   "source": [
    "if run.status == 'completed': \n",
    "  messages = client.beta.threads.messages.list(\n",
    "    thread_id=thread.id\n",
    "  )\n",
    "  print(messages)\n",
    "else:\n",
    "  print(run.status)"
   ]
  },
  {
   "cell_type": "markdown",
   "metadata": {},
   "source": [
    "The results are different"
   ]
  },
  {
   "cell_type": "code",
   "execution_count": 30,
   "metadata": {},
   "outputs": [
    {
     "name": "stdout",
     "output_type": "stream",
     "text": [
      "Text(annotations=[FilePathAnnotation(end_index=488, file_path=FilePath(file_id='file-8EzEAuoaGb5SC3mDnnNDaQa8'), start_index=445, text='sandbox:/mnt/data/play_tetris_refactored.py', type='file_path'), FilePathAnnotation(end_index=572, file_path=FilePath(file_id='file-h8Vdh56vMBw2xWCW7CkZVym7'), start_index=530, text='sandbox:/mnt/data/play_tetris_unit_test.py', type='file_path')], value='The unit tests have successfully passed after correcting the rotation logic. Here is the output:\\n\\n```\\n....\\n----------------------------------------------------------------------\\nRan 4 tests in 0.001s\\n\\nOK\\n```\\n\\nThis indicates that all tests were executed successfully without any issues.\\n\\nYou can re-download the corrected refactored Tetris script and the unit test script using the links below:\\n\\n[Download the corrected refactored Tetris script](sandbox:/mnt/data/play_tetris_refactored.py)\\n\\n[Download the Tetris unit test script](sandbox:/mnt/data/play_tetris_unit_test.py)')\n",
      "[FilePathAnnotation(end_index=488, file_path=FilePath(file_id='file-8EzEAuoaGb5SC3mDnnNDaQa8'), start_index=445, text='sandbox:/mnt/data/play_tetris_refactored.py', type='file_path'), FilePathAnnotation(end_index=572, file_path=FilePath(file_id='file-h8Vdh56vMBw2xWCW7CkZVym7'), start_index=530, text='sandbox:/mnt/data/play_tetris_unit_test.py', type='file_path')]\n",
      "The unit tests have successfully passed after correcting the rotation logic. Here is the output:\n",
      "\n",
      "```\n",
      "....\n",
      "----------------------------------------------------------------------\n",
      "Ran 4 tests in 0.001s\n",
      "\n",
      "OK\n",
      "```\n",
      "\n",
      "This indicates that all tests were executed successfully without any issues.\n",
      "\n",
      "You can re-download the corrected refactored Tetris script and the unit test script using the links below:\n",
      "\n",
      "[Download the corrected refactored Tetris script](sandbox:/mnt/data/play_tetris_refactored.py)\n",
      "\n",
      "[Download the Tetris unit test script](sandbox:/mnt/data/play_tetris_unit_test.py)\n"
     ]
    }
   ],
   "source": [
    "output = messages.data[0].content[0].text.value\n",
    "print(messages.data[0].content[0].text)\n",
    "print(messages.data[0].content[0].text.annotations)\n",
    "print(output)"
   ]
  }
 ],
 "metadata": {
  "kernelspec": {
   "display_name": "rag",
   "language": "python",
   "name": "python3"
  },
  "language_info": {
   "codemirror_mode": {
    "name": "ipython",
    "version": 3
   },
   "file_extension": ".py",
   "mimetype": "text/x-python",
   "name": "python",
   "nbconvert_exporter": "python",
   "pygments_lexer": "ipython3",
   "version": "3.10.14"
  }
 },
 "nbformat": 4,
 "nbformat_minor": 2
}
